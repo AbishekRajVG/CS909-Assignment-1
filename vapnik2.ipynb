{
  "nbformat": 4,
  "nbformat_minor": 0,
  "metadata": {
    "colab": {
      "name": "barebones.ipynb",
      "provenance": [],
      "authorship_tag": "ABX9TyOyVWudUCyjMdO1AR74Agrk",
      "include_colab_link": true
    },
    "kernelspec": {
      "name": "python3",
      "display_name": "Python 3"
    }
  },
  "cells": [
    {
      "cell_type": "markdown",
      "metadata": {
        "id": "view-in-github",
        "colab_type": "text"
      },
      "source": [
        "<a href=\"https://colab.research.google.com/github/foxtrotmike/CS909/blob/master/vapnik2.ipynb\" target=\"_parent\"><img src=\"https://colab.research.google.com/assets/colab-badge.svg\" alt=\"Open In Colab\"/></a>"
      ]
    },
    {
      "cell_type": "code",
      "source": [
        "\"\"\"\n",
        "Author: Fayyaz Minhas\n",
        "Simple demonstration of learning with statistical predicates by Vapnik\n",
        "\"\"\"\n"
      ],
      "metadata": {
        "id": "cERNHvoLYvEV"
      },
      "execution_count": null,
      "outputs": []
    },
    {
      "cell_type": "code",
      "source": [
        "from numpy.random import randn #importing randn\n",
        "import numpy as np #importing numpy\n",
        "import matplotlib.pyplot as plt #importing plotting module\n",
        "import itertools\n",
        "import warnings\n",
        "#nothing to see here - just a plotting function\n",
        "def plotit(X,Y=None,clf=None,  conts = None, ccolors = ('b','k','r'), colors = ('c','y'), markers = ('s','o'), hold = False, transform = None,extent = None,**kwargs):\n",
        "    \"\"\"\n",
        "    A function for showing data scatter plot and classification boundary\n",
        "    of a classifier for 2D data\n",
        "        X: nxd  matrix of data points\n",
        "        Y: (optional) n vector of class labels\n",
        "        clf: (optional) classification/discriminant function handle\n",
        "        conts: (optional) contours (if None, contours are drawn for each class boundary)\n",
        "        ccolors: (optional) colors for contours   \n",
        "        colors: (optional) colors for each class (sorted wrt class id)\n",
        "            can be 'scaled' or 'random' or a list/tuple of color ids\n",
        "        markers: (optional) markers for each class (sorted wrt class id)\n",
        "        hold: Whether to hold the plot or not for overlay (default: False).\n",
        "        transform: (optional) a function handle for transforming data before passing to clf\n",
        "        kwargs: any keyword arguments to be passed to clf (if any)        \n",
        "    \"\"\"\n",
        "    if clf is not None and X.shape[1]!=2:\n",
        "        warnings.warn(\"Data Dimensionality is not 2. Unable to plot.\")\n",
        "        return\n",
        "    if markers is None:\n",
        "        markers = ('.',)\n",
        "    eps=1e-6\n",
        "    d0,d1 = (0,1)\n",
        "    if extent is None:\n",
        "        minx, maxx = np.min(X[:,d0])-eps, np.max(X[:,d0])+eps\n",
        "        miny, maxy = np.min(X[:,d1])-eps, np.max(X[:,d1])+eps\n",
        "        extent = [minx,maxx,miny,maxy]\n",
        "    else:\n",
        "        [minx,maxx,miny,maxy] = extent\n",
        "    if Y is not None:\n",
        "        classes = sorted(set(Y))\n",
        "        if conts is None or len(conts)<2:\n",
        "            #conts = list(classes)\n",
        "            vmin,vmax = classes[0]-eps,classes[-1]+eps\n",
        "        else:            \n",
        "            vmin,vmax= np.min(conts)-eps,np.max(conts)+eps\n",
        "        \n",
        "    else:\n",
        "        vmin,vmax=-2-eps,2+eps\n",
        "        if conts is None or len(conts)<2:            \n",
        "            conts = sorted([-1+eps,0,1-eps])\n",
        "        else:\n",
        "            vmin,vmax= np.min(conts)-eps,np.max(conts)+eps\n",
        "        \n",
        "    if clf is not None:\n",
        "        npts = 150\n",
        "        x = np.linspace(minx,maxx,npts)\n",
        "        y = np.linspace(miny,maxy,npts)\n",
        "        t = np.array(list(itertools.product(x,y)))\n",
        "        if transform is not None:\n",
        "            t = transform(t)\n",
        "        z = clf(t,**kwargs)\n",
        "        \n",
        "        z = np.reshape(z,(npts,npts)).T        \n",
        "        \n",
        "        \n",
        "        plt.contour(x,y,z,conts,linewidths = [2],colors=ccolors,extent=extent, label='f(x)=0')\n",
        "        #plt.imshow(np.flipud(z), extent = extent, cmap=plt.cm.Purples, vmin = -2, vmax = +2); plt.colorbar()\n",
        "        plt.pcolormesh(x, y, z,cmap=plt.cm.Purples,vmin=vmin,vmax=vmax);plt.colorbar()\n",
        "        plt.axis(extent)\n",
        "    \n",
        "    if Y is not None:        \n",
        "        for i,y in enumerate(classes):\n",
        "            \n",
        "            if colors is None or colors=='scaled':\n",
        "                cc = np.array([[i,i,i]])/float(len(classes))\n",
        "            elif colors =='random':\n",
        "                cc = np.array([[np.random.rand(),np.random.rand(),np.random.rand()]])\n",
        "            else:\n",
        "                cc = colors[i%len(colors)]\n",
        "            \n",
        "            mm = markers[i%len(markers)]\n",
        "            plt.scatter(X[Y==y,d0],X[Y==y,d1], marker = mm,c = cc, s = 50)     \n",
        "         \n",
        "    else:\n",
        "        plt.scatter(X[:,d0],X[:,d1],marker = markers[0], c = 'k', s = 5)\n",
        "    plt.xlabel('$x_1$')\n",
        "    plt.ylabel('$x_2$')   \n",
        "    if not hold:\n",
        "        plt.grid()        \n",
        "        plt.show()\n",
        "    return extent"
      ],
      "metadata": {
        "id": "rJDByivYBQIz"
      },
      "execution_count": 1,
      "outputs": []
    },
    {
      "cell_type": "code",
      "metadata": {
        "id": "TG-En3BVlBGG",
        "colab": {
          "base_uri": "https://localhost:8080/",
          "height": 599
        },
        "outputId": "94f8910d-5354-4e0b-b082-804257f69633"
      },
      "source": [
        "\n",
        "import numpy as np\n",
        "import matplotlib.pyplot as plt\n",
        "import torch\n",
        "import torch.nn.modules as nn\n",
        "import torch.optim as optim\n",
        "from sklearn.datasets import make_moons, make_circles;  \n",
        "#Let's generate some data\n",
        "seed = 0\n",
        "np.random.seed(seed=seed)\n",
        "torch.manual_seed(seed)\n",
        "\n",
        "#X,y = make_circles(n_samples=800,  shuffle=True, noise=0.05, random_state=seed, factor = 0.5); Xp = X[y==1]; Xn = X[y!=1]\n",
        "Xp = 1.0+np.random.randn(200,2); Xn = -1-np.random.randn(10,2);\n",
        "inputs = np.vstack((Xp,Xn))\t\n",
        "from sklearn.preprocessing import StandardScaler\n",
        "inputs = StandardScaler().fit_transform(inputs)\n",
        "#labels\n",
        "targets = np.hstack((np.ones(len(Xp)),-0*np.ones(len(Xn))))\n",
        "ttargets = targets+0 #copy of true labels\n",
        " \n",
        "from sklearn.metrics.pairwise import rbf_kernel\n",
        "#K = (np.dot(inputs,inputs.T)+1)**2\n",
        "K = rbf_kernel(inputs,gamma=1.0)\n",
        "K = torch.from_numpy(K).float() #kernel\n",
        "P = (1*np.ones(K.shape)+1*inputs@inputs.T)/2.0#\n",
        "P = torch.from_numpy(P).float() #kernel\n",
        "M = 1*torch.eye(K.shape[0])+1*K+1*P #Learning with statistical invariants\n",
        "M = torch.eye(K.shape[0]) #No statistical invariants\n",
        "device = torch.device('cpu')\n",
        "#device = torch.device('cuda') # Uncomment this to run on GPU\n",
        "x = torch.from_numpy(inputs).float()\n",
        "y = torch.from_numpy(targets).float()\n",
        "N, D_in,D_out = x.shape[0], x.shape[1], 1\n",
        "\n",
        "class Feedforward(torch.nn.Module):\n",
        "        def __init__(self, layer_size):\n",
        "            super(Feedforward, self).__init__()\n",
        "            self.layer_size = layer_size            \n",
        "            self.fc1 = torch.nn.Linear(self.layer_size[0], self.layer_size[1])\n",
        "            self.relu = torch.nn.ReLU()\n",
        "            self.fc2 = torch.nn.Linear(self.layer_size[1], self.layer_size[2])\n",
        "            self.sigmoid = torch.nn.Sigmoid()\n",
        "            self.tanh = torch.nn.Tanh()\n",
        "            self.fc3 = torch.nn.Linear(self.layer_size[2], self.layer_size[-1])\n",
        "        def forward(self, x):\n",
        "            x = self.fc1(x)\n",
        "            x = self.tanh(x)\n",
        "            x = self.fc2(x)\n",
        "            x = self.tanh(x)\n",
        "            x = self.fc3(x)\n",
        "            \n",
        "            return x\n",
        "model = Feedforward([D_in,500,100,D_out])\n",
        "\n",
        "optimizer = optim.Adam(model.parameters(), lr=1e-4)\n",
        "\n",
        "L = [] #history of losses\n",
        "for epoch in range(5000):\n",
        "      \"\"\"\n",
        "      # REPRESENTATION\n",
        "      \"\"\"\n",
        "      y_pred = model(x).flatten()#x@wb+bb\n",
        "      \"\"\"\n",
        "      # EVALUATION\n",
        "      \"\"\"\n",
        "      obj = (y-y_pred)@M@(y-y_pred)\n",
        "      \"\"\"\n",
        "      #OPTIMIZATION\n",
        "      \"\"\"    \n",
        "      obj.backward()\n",
        "      # Using built-in optimizer\n",
        "      optimizer.step()\n",
        "      optimizer.zero_grad()\n",
        "      L.append(obj.detach().numpy()) #save for history and plotting\n",
        "\n",
        "#plt.close(\"all\")\n",
        "plt.figure()\n",
        "plt.plot(L);plt.yscale('log')\n",
        "\n",
        "plt.grid(); plt.xlabel('Epochs'); plt.ylabel('value');plt.legend(['Loss','Objective'])\n",
        "\n",
        "def clf(inputs): \n",
        "  return model(torch.from_numpy(inputs).float()).detach().numpy()#inputs@wbn+bbn\n",
        "\n",
        "plt.figure()\n",
        "plotit(inputs,targets,clf=clf,conts=[0.5])\n"
      ],
      "execution_count": 102,
      "outputs": [
        {
          "output_type": "stream",
          "name": "stderr",
          "text": [
            "<ipython-input-1-5604fef99228>:63: UserWarning: The following kwargs were not used by contour: 'label'\n",
            "  plt.contour(x,y,z,conts,linewidths = [2],colors=ccolors,extent=extent, label='f(x)=0')\n"
          ]
        },
        {
          "output_type": "display_data",
          "data": {
            "text/plain": [
              "<Figure size 432x288 with 1 Axes>"
            ],
            "image/png": "[encoded data removed]"
          },
          "metadata": {
            "needs_background": "light"
          }
        },
        {
          "output_type": "display_data",
          "data": {
            "text/plain": [
              "<Figure size 432x288 with 2 Axes>"
            ],
            "image/png": "[encoded data removed]"
          },
          "metadata": {
            "needs_background": "light"
          }
        },
        {
          "output_type": "execute_result",
          "data": {
            "text/plain": [
              "[-3.27086416391132, 2.3409951470049477, -3.367157909813183, 2.177610500642868]"
            ]
          },
          "metadata": {},
          "execution_count": 102
        }
      ]
    },
    {
      "cell_type": "code",
      "source": [
        "#y_pred = x@wb+bb#wb@K\n",
        "#berr = torch.mean(y_pred[uidx])-cratio\n",
        "z = clf(inputs)\n",
        "#print(\"Accuracy\",np.mean(z*ttargets>0))\n",
        "from sklearn.metrics import roc_auc_score\n",
        "print(\"AUROC\",roc_auc_score(ttargets, z))\n",
        "#print(\"AUROC\",roc_auc_score(ttargets, wbn))"
      ],
      "metadata": {
        "id": "ERafpLRRK0Dm",
        "outputId": "c12ca74b-605a-4b6a-a78f-24d088795c16",
        "colab": {
          "base_uri": "https://localhost:8080/"
        }
      },
      "execution_count": 19,
      "outputs": [
        {
          "output_type": "stream",
          "name": "stdout",
          "text": [
            "AUROC 0.797453125\n"
          ]
        }
      ]
    },
    {
      "cell_type": "code",
      "source": [
        "inputs.T@z,inputs.T@ttargets"
      ],
      "metadata": {
        "colab": {
          "base_uri": "https://localhost:8080/"
        },
        "id": "fMNXav9EES6i",
        "outputId": "ac55691f-fcba-4688-a0fb-c35a76e50241"
      },
      "execution_count": 15,
      "outputs": [
        {
          "output_type": "execute_result",
          "data": {
            "text/plain": [
              "(array([[100.06629391],\n",
              "        [ 82.403701  ]]), array([111.02932579,  92.04020602]))"
            ]
          },
          "metadata": {},
          "execution_count": 15
        }
      ]
    },
    {
      "cell_type": "code",
      "source": [
        "model"
      ],
      "metadata": {
        "colab": {
          "base_uri": "https://localhost:8080/"
        },
        "id": "vNGTkMrFFHkC",
        "outputId": "697bbb5d-67c7-4e1b-b9c1-2025c0502349"
      },
      "execution_count": 6,
      "outputs": [
        {
          "output_type": "execute_result",
          "data": {
            "text/plain": [
              "Feedforward(\n",
              "  (fc1): Linear(in_features=2, out_features=100, bias=True)\n",
              "  (relu): ReLU()\n",
              "  (fc2): Linear(in_features=100, out_features=100, bias=True)\n",
              "  (sigmoid): Sigmoid()\n",
              "  (fc3): Linear(in_features=100, out_features=1, bias=True)\n",
              ")"
            ]
          },
          "metadata": {},
          "execution_count": 6
        }
      ]
    },
    {
      "cell_type": "code",
      "source": [
        "y_pred.shape"
      ],
      "metadata": {
        "colab": {
          "base_uri": "https://localhost:8080/"
        },
        "id": "MPV5JSUhKXYc",
        "outputId": "43de3be4-51e5-46f0-9349-0e82c7f275ce"
      },
      "execution_count": 7,
      "outputs": [
        {
          "output_type": "execute_result",
          "data": {
            "text/plain": [
              "torch.Size([200])"
            ]
          },
          "metadata": {},
          "execution_count": 7
        }
      ]
    },
    {
      "cell_type": "code",
      "source": [],
      "metadata": {
        "id": "p5LW2UEsKZ56"
      },
      "execution_count": 7,
      "outputs": []
    }
  ]
}