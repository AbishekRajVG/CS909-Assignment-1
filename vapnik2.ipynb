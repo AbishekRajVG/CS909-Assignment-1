{
  "nbformat": 4,
  "nbformat_minor": 0,
  "metadata": {
    "colab": {
      "name": "barebones.ipynb",
      "provenance": [],
      "authorship_tag": "ABX9TyNS6WSr6ax7h5ADb/q2BnF+",
      "include_colab_link": true
    },
    "kernelspec": {
      "name": "python3",
      "display_name": "Python 3"
    }
  },
  "cells": [
    {
      "cell_type": "markdown",
      "metadata": {
        "id": "view-in-github",
        "colab_type": "text"
      },
      "source": [
        "<a href=\"https://colab.research.google.com/github/foxtrotmike/CS909/blob/master/vapnik2.ipynb\" target=\"_parent\"><img src=\"https://colab.research.google.com/assets/colab-badge.svg\" alt=\"Open In Colab\"/></a>"
      ]
    },
    {
      "cell_type": "code",
      "source": [
        "\"\"\"\n",
        "Author: Fayyaz Minhas\n",
        "Simple demonstration of learning with statistical predicates by Vapnik\n",
        "\"\"\"\n"
      ],
      "metadata": {
        "id": "cERNHvoLYvEV",
        "outputId": "74ce487b-64a5-4432-be32-e13202260c88",
        "colab": {
          "base_uri": "https://localhost:8080/",
          "height": 35
        }
      },
      "execution_count": 8,
      "outputs": [
        {
          "output_type": "execute_result",
          "data": {
            "text/plain": [
              "'\\nAuthor: Fayyaz Minhas\\nSimple demonstration of learning with statistical predicates by Vapnik\\n'"
            ],
            "application/vnd.google.colaboratory.intrinsic+json": {
              "type": "string"
            }
          },
          "metadata": {},
          "execution_count": 8
        }
      ]
    },
    {
      "cell_type": "code",
      "source": [
        "from numpy.random import randn #importing randn\n",
        "import numpy as np #importing numpy\n",
        "import matplotlib.pyplot as plt #importing plotting module\n",
        "import itertools\n",
        "import warnings\n",
        "#nothing to see here - just a plotting function\n",
        "def plotit(X,Y=None,clf=None,  conts = None, ccolors = ('b','k','r'), colors = ('c','y'), markers = ('s','o'), hold = False, transform = None,extent = None,**kwargs):\n",
        "    \"\"\"\n",
        "    A function for showing data scatter plot and classification boundary\n",
        "    of a classifier for 2D data\n",
        "        X: nxd  matrix of data points\n",
        "        Y: (optional) n vector of class labels\n",
        "        clf: (optional) classification/discriminant function handle\n",
        "        conts: (optional) contours (if None, contours are drawn for each class boundary)\n",
        "        ccolors: (optional) colors for contours   \n",
        "        colors: (optional) colors for each class (sorted wrt class id)\n",
        "            can be 'scaled' or 'random' or a list/tuple of color ids\n",
        "        markers: (optional) markers for each class (sorted wrt class id)\n",
        "        hold: Whether to hold the plot or not for overlay (default: False).\n",
        "        transform: (optional) a function handle for transforming data before passing to clf\n",
        "        kwargs: any keyword arguments to be passed to clf (if any)        \n",
        "    \"\"\"\n",
        "    if clf is not None and X.shape[1]!=2:\n",
        "        warnings.warn(\"Data Dimensionality is not 2. Unable to plot.\")\n",
        "        return\n",
        "    if markers is None:\n",
        "        markers = ('.',)\n",
        "    eps=1e-6\n",
        "    d0,d1 = (0,1)\n",
        "    if extent is None:\n",
        "        minx, maxx = np.min(X[:,d0])-eps, np.max(X[:,d0])+eps\n",
        "        miny, maxy = np.min(X[:,d1])-eps, np.max(X[:,d1])+eps\n",
        "        extent = [minx,maxx,miny,maxy]\n",
        "    else:\n",
        "        [minx,maxx,miny,maxy] = extent\n",
        "    if Y is not None:\n",
        "        classes = sorted(set(Y))\n",
        "        if conts is None or len(conts)<2:\n",
        "            #conts = list(classes)\n",
        "            vmin,vmax = classes[0]-eps,classes[-1]+eps\n",
        "        else:            \n",
        "            vmin,vmax= np.min(conts)-eps,np.max(conts)+eps\n",
        "        \n",
        "    else:\n",
        "        vmin,vmax=-2-eps,2+eps\n",
        "        if conts is None or len(conts)<2:            \n",
        "            conts = sorted([-1+eps,0,1-eps])\n",
        "        else:\n",
        "            vmin,vmax= np.min(conts)-eps,np.max(conts)+eps\n",
        "        \n",
        "    if clf is not None:\n",
        "        npts = 150\n",
        "        x = np.linspace(minx,maxx,npts)\n",
        "        y = np.linspace(miny,maxy,npts)\n",
        "        t = np.array(list(itertools.product(x,y)))\n",
        "        if transform is not None:\n",
        "            t = transform(t)\n",
        "        z = clf(t,**kwargs)\n",
        "        \n",
        "        z = np.reshape(z,(npts,npts)).T        \n",
        "        \n",
        "        \n",
        "        plt.contour(x,y,z,conts,linewidths = [2],colors=ccolors,extent=extent, label='f(x)=0')\n",
        "        #plt.imshow(np.flipud(z), extent = extent, cmap=plt.cm.Purples, vmin = -2, vmax = +2); plt.colorbar()\n",
        "        plt.pcolormesh(x, y, z,cmap=plt.cm.Purples,vmin=vmin,vmax=vmax);plt.colorbar()\n",
        "        plt.axis(extent)\n",
        "    \n",
        "    if Y is not None:        \n",
        "        for i,y in enumerate(classes):\n",
        "            \n",
        "            if colors is None or colors=='scaled':\n",
        "                cc = np.array([[i,i,i]])/float(len(classes))\n",
        "            elif colors =='random':\n",
        "                cc = np.array([[np.random.rand(),np.random.rand(),np.random.rand()]])\n",
        "            else:\n",
        "                cc = colors[i%len(colors)]\n",
        "            \n",
        "            mm = markers[i%len(markers)]\n",
        "            plt.scatter(X[Y==y,d0],X[Y==y,d1], marker = mm,c = cc, s = 50)     \n",
        "         \n",
        "    else:\n",
        "        plt.scatter(X[:,d0],X[:,d1],marker = markers[0], c = 'k', s = 5)\n",
        "    plt.xlabel('$x_1$')\n",
        "    plt.ylabel('$x_2$')   \n",
        "    if not hold:\n",
        "        plt.grid()        \n",
        "        plt.show()\n",
        "    return extent"
      ],
      "metadata": {
        "id": "rJDByivYBQIz"
      },
      "execution_count": 9,
      "outputs": []
    },
    {
      "cell_type": "code",
      "metadata": {
        "id": "TG-En3BVlBGG",
        "colab": {
          "base_uri": "https://localhost:8080/",
          "height": 599
        },
        "outputId": "6616b62c-ec90-4711-cff6-1d5dba66f153"
      },
      "source": [
        "\n",
        "import numpy as np\n",
        "import matplotlib.pyplot as plt\n",
        "import torch\n",
        "import torch.nn.modules as nn\n",
        "import torch.optim as optim\n",
        "from sklearn.datasets import make_moons, make_circles;  \n",
        "#Let's generate some data\n",
        "seed = 0\n",
        "np.random.seed(seed=seed)\n",
        "torch.manual_seed(seed)\n",
        "\n",
        "#X,y = make_circles(n_samples=800,  shuffle=True, noise=0.05, random_state=seed, factor = 0.5); Xp = X[y==1]; Xn = X[y!=1]\n",
        "Xp = 1.0+np.random.randn(200,2); Xn = -0.5-np.random.randn(30,2);\n",
        "inputs = np.vstack((Xp,Xn))\t\n",
        "from sklearn.preprocessing import StandardScaler\n",
        "inputs = StandardScaler().fit_transform(inputs)\n",
        "#labels\n",
        "targets = np.hstack((np.ones(len(Xp)),-0*np.ones(len(Xn))))\n",
        "ttargets = targets+0 #copy of true labels\n",
        " \n",
        "from sklearn.metrics.pairwise import rbf_kernel\n",
        "#K = (np.dot(inputs,inputs.T)+1)**2\n",
        "K = rbf_kernel(inputs,gamma=1.0)\n",
        "K = torch.from_numpy(K).float() #kernel\n",
        "psi2 = []\n",
        "for k in range(inputs.shape[0]):\n",
        "  r = inputs[k:k+1,:]\n",
        "  psi2.append((r.T@r).flatten())\n",
        "psi2 = np.array(psi2)\n",
        "P2 = psi2@psi2.T #makes the psi(x)=x@x.T\n",
        "\n",
        "P = (1*np.ones(K.shape)+1*inputs@inputs.T+P2)/3.0#psi(x)=1,psi(x)=x,psi(x)=x@x.T\n",
        "P = torch.from_numpy(P).float() #kernel\n",
        "M = 1*torch.eye(K.shape[0])+0*K+1*P #Learning with statistical invariants\n",
        "#M = torch.eye(K.shape[0]) #No statistical invariants\n",
        "device = torch.device('cpu')\n",
        "#device = torch.device('cuda') # Uncomment this to run on GPU\n",
        "x = torch.from_numpy(inputs).float()\n",
        "y = torch.from_numpy(targets).float()\n",
        "N, D_in,D_out = x.shape[0], x.shape[1], 1\n",
        "\n",
        "class Feedforward(torch.nn.Module):\n",
        "        def __init__(self, layer_size):\n",
        "            super(Feedforward, self).__init__()\n",
        "            self.layer_size = layer_size            \n",
        "            self.fc1 = torch.nn.Linear(self.layer_size[0], self.layer_size[1])\n",
        "            self.relu = torch.nn.ReLU()\n",
        "            self.fc2 = torch.nn.Linear(self.layer_size[1], self.layer_size[2])\n",
        "            self.sigmoid = torch.nn.Sigmoid()\n",
        "            self.tanh = torch.nn.Tanh()\n",
        "            self.fc3 = torch.nn.Linear(self.layer_size[2], self.layer_size[-1])\n",
        "        def forward(self, x):\n",
        "            x = self.fc1(x)\n",
        "            x = self.tanh(x)\n",
        "            x = self.fc2(x)\n",
        "            x = self.tanh(x)\n",
        "            x = self.fc3(x)\n",
        "            \n",
        "            return x\n",
        "model = Feedforward([D_in,500,200,D_out])\n",
        "\n",
        "optimizer = optim.Adam(model.parameters(), lr=1e-4)\n",
        "\n",
        "L = [] #history of losses\n",
        "for epoch in range(5000):\n",
        "      \"\"\"\n",
        "      # REPRESENTATION\n",
        "      \"\"\"\n",
        "      y_pred = model(x).flatten()#x@wb+bb\n",
        "      \"\"\"\n",
        "      # EVALUATION\n",
        "      \"\"\"\n",
        "      obj = (y-y_pred)@M@(y-y_pred)\n",
        "      \"\"\"\n",
        "      #OPTIMIZATION\n",
        "      \"\"\"    \n",
        "      obj.backward()\n",
        "      # Using built-in optimizer\n",
        "      optimizer.step()\n",
        "      optimizer.zero_grad()\n",
        "      L.append(obj.detach().numpy()) #save for history and plotting\n",
        "\n",
        "#plt.close(\"all\")\n",
        "plt.figure()\n",
        "plt.plot(L);plt.yscale('log')\n",
        "\n",
        "plt.grid(); plt.xlabel('Epochs'); plt.ylabel('value');plt.legend(['Loss','Objective'])\n",
        "\n",
        "def clf(inputs): \n",
        "  return model(torch.from_numpy(inputs).float()).detach().numpy()#inputs@wbn+bbn\n",
        "\n",
        "plt.figure()\n",
        "plotit(inputs,targets,clf=clf,conts=[0.5])\n"
      ],
      "execution_count": 60,
      "outputs": [
        {
          "output_type": "stream",
          "name": "stderr",
          "text": [
            "<ipython-input-9-5604fef99228>:63: UserWarning: The following kwargs were not used by contour: 'label'\n",
            "  plt.contour(x,y,z,conts,linewidths = [2],colors=ccolors,extent=extent, label='f(x)=0')\n"
          ]
        },
        {
          "output_type": "display_data",
          "data": {
            "text/plain": [
              "<Figure size 432x288 with 1 Axes>"
            ],
            "image/png": "[encoded data removed]"
          },
          "metadata": {
            "needs_background": "light"
          }
        },
        {
          "output_type": "display_data",
          "data": {
            "text/plain": [
              "<Figure size 432x288 with 2 Axes>"
            ],
            "image/png": "[encoded data removed]"
          },
          "metadata": {
            "needs_background": "light"
          }
        },
        {
          "output_type": "execute_result",
          "data": {
            "text/plain": [
              "[-2.700724809315917, 2.402643142730158, -3.0587196692755185, 2.223110674491954]"
            ]
          },
          "metadata": {},
          "execution_count": 60
        }
      ]
    },
    {
      "cell_type": "code",
      "source": [
        "#y_pred = x@wb+bb#wb@K\n",
        "#berr = torch.mean(y_pred[uidx])-cratio\n",
        "z = clf(inputs)\n",
        "#print(\"Accuracy\",np.mean(z*ttargets>0))\n",
        "from sklearn.metrics import roc_auc_score\n",
        "print(\"AUROC\",roc_auc_score(ttargets, z))\n",
        "#print(\"AUROC\",roc_auc_score(ttargets, wbn))"
      ],
      "metadata": {
        "id": "ERafpLRRK0Dm",
        "outputId": "7baf05da-5d57-4ade-bce1-2a434927d8fe",
        "colab": {
          "base_uri": "https://localhost:8080/"
        }
      },
      "execution_count": 11,
      "outputs": [
        {
          "output_type": "stream",
          "name": "stdout",
          "text": [
            "AUROC 0.9925\n"
          ]
        }
      ]
    },
    {
      "cell_type": "code",
      "source": [
        "inputs.T@z,inputs.T@ttargets"
      ],
      "metadata": {
        "colab": {
          "base_uri": "https://localhost:8080/"
        },
        "id": "fMNXav9EES6i",
        "outputId": "e54f381a-0d65-4925-ec4e-0321c151b6d2"
      },
      "execution_count": 12,
      "outputs": [
        {
          "output_type": "execute_result",
          "data": {
            "text/plain": [
              "(array([[17.63204968],\n",
              "        [19.53351413]]), array([17.63227685, 19.53598008]))"
            ]
          },
          "metadata": {},
          "execution_count": 12
        }
      ]
    },
    {
      "cell_type": "code",
      "source": [
        "model"
      ],
      "metadata": {
        "colab": {
          "base_uri": "https://localhost:8080/"
        },
        "id": "vNGTkMrFFHkC",
        "outputId": "fca45a62-5b7c-42ed-fecf-e79be01fdb1c"
      },
      "execution_count": 13,
      "outputs": [
        {
          "output_type": "execute_result",
          "data": {
            "text/plain": [
              "Feedforward(\n",
              "  (fc1): Linear(in_features=2, out_features=500, bias=True)\n",
              "  (relu): ReLU()\n",
              "  (fc2): Linear(in_features=500, out_features=100, bias=True)\n",
              "  (sigmoid): Sigmoid()\n",
              "  (tanh): Tanh()\n",
              "  (fc3): Linear(in_features=100, out_features=1, bias=True)\n",
              ")"
            ]
          },
          "metadata": {},
          "execution_count": 13
        }
      ]
    },
    {
      "cell_type": "code",
      "source": [
        "y_pred.shape"
      ],
      "metadata": {
        "colab": {
          "base_uri": "https://localhost:8080/"
        },
        "id": "MPV5JSUhKXYc",
        "outputId": "751f9e66-1421-4023-a3d3-b375e3cd641b"
      },
      "execution_count": 14,
      "outputs": [
        {
          "output_type": "execute_result",
          "data": {
            "text/plain": [
              "torch.Size([210])"
            ]
          },
          "metadata": {},
          "execution_count": 14
        }
      ]
    },
    {
      "cell_type": "code",
      "source": [
        "(inputs@inputs.T).shape"
      ],
      "metadata": {
        "id": "p5LW2UEsKZ56",
        "outputId": "752d6649-eb72-4b53-8ce5-e2febeadd393",
        "colab": {
          "base_uri": "https://localhost:8080/"
        }
      },
      "execution_count": 17,
      "outputs": [
        {
          "output_type": "execute_result",
          "data": {
            "text/plain": [
              "(210, 210)"
            ]
          },
          "metadata": {},
          "execution_count": 17
        }
      ]
    },
    {
      "cell_type": "code",
      "source": [],
      "metadata": {
        "id": "IcEuhE00kTh4"
      },
      "execution_count": 49,
      "outputs": []
    },
    {
      "cell_type": "code",
      "source": [
        "psi2.shape"
      ],
      "metadata": {
        "id": "9uuWvG1yl5Qp",
        "outputId": "63fccefb-1c5d-4097-f92d-508bbe7f375f",
        "colab": {
          "base_uri": "https://localhost:8080/"
        }
      },
      "execution_count": 50,
      "outputs": [
        {
          "output_type": "execute_result",
          "data": {
            "text/plain": [
              "(210, 4)"
            ]
          },
          "metadata": {},
          "execution_count": 50
        }
      ]
    },
    {
      "cell_type": "code",
      "source": [
        "psi2@psi2.T"
      ],
      "metadata": {
        "id": "soaHGbPQmloJ",
        "outputId": "53f7814f-07e1-459c-c143-315250aa3b68",
        "colab": {
          "base_uri": "https://localhost:8080/"
        }
      },
      "execution_count": 52,
      "outputs": [
        {
          "output_type": "execute_result",
          "data": {
            "text/plain": [
              "array([[1.12249779e+01, 8.12275618e+00, 8.62681120e+00, ...,\n",
              "        4.75318453e+01, 1.98001944e+01, 4.87947750e+01],\n",
              "       [8.12275618e+00, 3.34733969e+01, 3.45356815e-02, ...,\n",
              "        7.47836960e+01, 3.89896888e+01, 1.10659866e+02],\n",
              "       [8.62681120e+00, 3.45356815e-02, 1.73567873e+01, ...,\n",
              "        1.70498847e+01, 4.87983252e+00, 8.84651913e+00],\n",
              "       ...,\n",
              "       [4.75318453e+01, 7.47836960e+01, 1.70498847e+01, ...,\n",
              "        2.71962622e+02, 1.25272920e+02, 3.29938204e+02],\n",
              "       [1.98001944e+01, 3.89896888e+01, 4.87983252e+00, ...,\n",
              "        1.25272920e+02, 5.94244333e+01, 1.59417546e+02],\n",
              "       [4.87947750e+01, 1.10659866e+02, 8.84651913e+00, ...,\n",
              "        3.29938204e+02, 1.59417546e+02, 4.32535048e+02]])"
            ]
          },
          "metadata": {},
          "execution_count": 52
        }
      ]
    },
    {
      "cell_type": "code",
      "source": [],
      "metadata": {
        "id": "JEtTCOBQnnHX"
      },
      "execution_count": null,
      "outputs": []
    }
  ]
}