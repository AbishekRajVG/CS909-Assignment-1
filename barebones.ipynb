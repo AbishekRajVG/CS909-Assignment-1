{
  "nbformat": 4,
  "nbformat_minor": 0,
  "metadata": {
    "colab": {
      "name": "barebones.ipynb",
      "provenance": [],
      "collapsed_sections": [],
      "authorship_tag": "ABX9TyMm2R2Qf0CBk7dJEcoFH30f",
      "include_colab_link": true
    },
    "kernelspec": {
      "name": "python3",
      "display_name": "Python 3"
    }
  },
  "cells": [
    {
      "cell_type": "markdown",
      "metadata": {
        "id": "view-in-github",
        "colab_type": "text"
      },
      "source": [
        "<a href=\"https://colab.research.google.com/github/foxtrotmike/CS909/blob/master/barebones.ipynb\" target=\"_parent\"><img src=\"https://colab.research.google.com/assets/colab-badge.svg\" alt=\"Open In Colab\"/></a>"
      ]
    },
    {
      "cell_type": "code",
      "metadata": {
        "id": "Znhwloohk7Bj"
      },
      "source": [
        "# -*- coding: utf-8 -*-\n",
        "\"\"\"\n",
        "@author: Dr. Fayyaz Minhas\n",
        "2D Scatter Plotter for Classification\n",
        "\"\"\"\n",
        "from numpy.random import randn #importing randn\n",
        "import numpy as np #importing numpy\n",
        "import matplotlib.pyplot as plt #importing plotting module\n",
        "import itertools\n",
        "import warnings\n",
        "\n",
        "def plotit(X,Y=None,clf=None,  conts = None, ccolors = ('b','k','r'), colors = ('c','y'), markers = ('s','o'), hold = False, transform = None,extent = None,**kwargs):\n",
        "    \"\"\"\n",
        "    A function for showing data scatter plot and classification boundary\n",
        "    of a classifier for 2D data\n",
        "        X: nxd  matrix of data points\n",
        "        Y: (optional) n vector of class labels\n",
        "        clf: (optional) classification/discriminant function handle\n",
        "        conts: (optional) contours (if None, contours are drawn for each class boundary)\n",
        "        ccolors: (optional) colors for contours   \n",
        "        colors: (optional) colors for each class (sorted wrt class id)\n",
        "            can be 'scaled' or 'random' or a list/tuple of color ids\n",
        "        markers: (optional) markers for each class (sorted wrt class id)\n",
        "        hold: Whether to hold the plot or not for overlay (default: False).\n",
        "        transform: (optional) a function handle for transforming data before passing to clf\n",
        "        kwargs: any keyword arguments to be passed to clf (if any)        \n",
        "    \"\"\"\n",
        "    if clf is not None and X.shape[1]!=2:\n",
        "        warnings.warn(\"Data Dimensionality is not 2. Unable to plot.\")\n",
        "        return\n",
        "    if markers is None:\n",
        "        markers = ('.',)\n",
        "    eps=1e-6\n",
        "    d0,d1 = (0,1)\n",
        "    if extent is None:\n",
        "        minx, maxx = np.min(X[:,d0])-eps, np.max(X[:,d0])+eps\n",
        "        miny, maxy = np.min(X[:,d1])-eps, np.max(X[:,d1])+eps\n",
        "        extent = [minx,maxx,miny,maxy]\n",
        "    else:\n",
        "        [minx,maxx,miny,maxy] = extent\n",
        "    if Y is not None:\n",
        "        classes = sorted(set(Y))\n",
        "        if conts is None or len(conts)<2:\n",
        "            #conts = list(classes)\n",
        "            vmin,vmax = classes[0]-eps,classes[-1]+eps\n",
        "        else:            \n",
        "            vmin,vmax= np.min(conts)-eps,np.max(conts)+eps\n",
        "        \n",
        "    else:\n",
        "        vmin,vmax=-2-eps,2+eps\n",
        "        if conts is None or len(conts)<2:            \n",
        "            conts = sorted([-1+eps,0,1-eps])\n",
        "        else:\n",
        "            vmin,vmax= np.min(conts)-eps,np.max(conts)+eps\n",
        "        \n",
        "    if clf is not None:\n",
        "        npts = 150\n",
        "        x = np.linspace(minx,maxx,npts)\n",
        "        y = np.linspace(miny,maxy,npts)\n",
        "        t = np.array(list(itertools.product(x,y)))\n",
        "        if transform is not None:\n",
        "            t = transform(t)\n",
        "        z = clf(t,**kwargs)\n",
        "        \n",
        "        z = np.reshape(z,(npts,npts)).T        \n",
        "        \n",
        "        \n",
        "        plt.contour(x,y,z,conts,linewidths = [2],colors=ccolors,extent=extent, label='f(x)=0')\n",
        "        #plt.imshow(np.flipud(z), extent = extent, cmap=plt.cm.Purples, vmin = -2, vmax = +2); plt.colorbar()\n",
        "        plt.pcolormesh(x, y, z,cmap=plt.cm.Purples,vmin=vmin,vmax=vmax);plt.colorbar()\n",
        "        plt.axis(extent)\n",
        "    \n",
        "    if Y is not None:        \n",
        "        for i,y in enumerate(classes):\n",
        "            \n",
        "            if colors is None or colors=='scaled':\n",
        "                cc = np.array([[i,i,i]])/float(len(classes))\n",
        "            elif colors =='random':\n",
        "                cc = np.array([[np.random.rand(),np.random.rand(),np.random.rand()]])\n",
        "            else:\n",
        "                cc = colors[i%len(colors)]\n",
        "            \n",
        "            mm = markers[i%len(markers)]\n",
        "            plt.scatter(X[Y==y,d0],X[Y==y,d1], marker = mm,c = cc, s = 50)     \n",
        "         \n",
        "    else:\n",
        "        plt.scatter(X[:,d0],X[:,d1],marker = markers[0], c = 'k', s = 5)\n",
        "    plt.xlabel('$x_1$')\n",
        "    plt.ylabel('$x_2$')   \n",
        "    if not hold:\n",
        "        plt.grid()        \n",
        "        plt.show()\n",
        "    return extent\n"
      ],
      "execution_count": 2,
      "outputs": []
    },
    {
      "cell_type": "code",
      "metadata": {
        "id": "TG-En3BVlBGG",
        "colab": {
          "base_uri": "https://localhost:8080/",
          "height": 617
        },
        "outputId": "4742d263-957c-4460-c941-dc5bf5c8057e"
      },
      "source": [
        "\"\"\"\n",
        "Author: Fayyaz Minhas\n",
        "A barebones single neuron model example with pytorch\n",
        "You will need plotit for this (https://github.com/foxtrotmike/plotit)\n",
        "Demonstrates: \n",
        "    Representation, Evaluation and Optimization\n",
        "    concept of loss functions, SRM objective function\n",
        "    automatic differentiation\n",
        "    optimization\n",
        "Things to try: What happens if you:\n",
        "    change the input from bipolar to binary\n",
        "    change the targets from bipolar to binary\n",
        "    change the loss function\n",
        "    change the activation function\n",
        "    change the regularization parameter\n",
        "    can solve a linearly inseparable classification problem\n",
        "\"\"\"\n",
        "import numpy as np\n",
        "import matplotlib.pyplot as plt\n",
        "import torch\n",
        "import torch.nn.modules as nn\n",
        "import torch.optim as optim\n",
        "\n",
        "#Let's generate some data\n",
        "inputs = 2*np.array([[0,0],[0,1],[1,0],[1,1]],dtype=np.float)-1\n",
        "targets = np.array([-1,-1,-1,1],dtype=np.float)\n",
        "inputs = np.array([[-1,0],[0,1],[4,4],[2,3]])\n",
        "targets = np.array([-1,-1,+1,+1])\n",
        "device = torch.device('cpu')\n",
        "#device = torch.device('cuda') # Uncomment this to run on GPU\n",
        "x = torch.from_numpy(inputs).float()\n",
        "y = torch.from_numpy(targets).float()\n",
        "N, D_in,D_out = x.shape[0], x.shape[1], 1\n",
        "# Loss function implementation\n",
        "def hinge(y_true, y_pred):\n",
        "    zero = torch.Tensor([0]) \n",
        "    return torch.max(zero, 1 - y_true * y_pred) \n",
        "def sq_loss(y_true,y_pred):\n",
        "    return (y_true-y_pred)**2\n",
        "def logistic_loss(y_true,y_pred):\n",
        "    return torch.log(1+torch.exp(- y_true * y_pred))\n",
        "# Other loss functions can also be implemented\n",
        "eps = 1e-6\n",
        "# Create random Tensors for weights; setting requires_grad=True means that we\n",
        "# want to compute gradients for these Tensors during the backward pass.\n",
        "wb = torch.randn(D_in+1, device=device, requires_grad=True)\n",
        "#Note: we have added one additional weight (for bias)\n",
        "learning_rate = 0.01\n",
        "optimizer = optim.SGD([wb], lr=learning_rate)\n",
        "L = [] #history of losses\n",
        "for epoch in range(500):\n",
        "  # Forward pass: compute predicted y using operations on Tensors. Since w1\n",
        "  # has requires_grad=True, operations involving w1 will cause\n",
        "  # PyTorch to build a computational graph, allowing automatic computation of\n",
        "  # gradients.   \n",
        "  epoch_loss = 0.0\n",
        "  for i in range(len(y)):\n",
        "      \"\"\"\n",
        "      # REPRESENTATION\n",
        "      \"\"\"\n",
        "      w = wb[1:]\n",
        "      b = wb[0]\n",
        "      y_pred = torch.dot(w,x[i,:])+b #Implementing w'x+b\n",
        "      \"\"\"\n",
        "      # EVALUATION\n",
        "      \"\"\"\n",
        "      # Compute and print loss. Loss is a Tensor of shape (), and loss.item()\n",
        "      # is a Python number giving its value.\n",
        "      #loss = (y_pred - y).pow(2).mean() #loss = lossf(y_pred,y)      \n",
        "      loss = hinge(y[i],y_pred)        \n",
        "      \n",
        "      obj = loss+0.0*torch.dot(w,w) #empirical loss + regularization\n",
        "      epoch_loss+=loss#.item()      \n",
        "\n",
        "      \"\"\"\n",
        "      #OPTIMIZATION\n",
        "      \"\"\"\n",
        "      # Use autograd to compute the backward pass. This call will compute the\n",
        "      # gradient of loss with respect to all Tensors with requires_grad=True.\n",
        "      # After this call w1.grad will be Tensors holding the gradient\n",
        "      # of the loss with respect to w1.\n",
        "      obj.backward()\n",
        "    \n",
        "      # Update weights using gradient descent. For this step we just want to mutate\n",
        "      # the values of w1 in-place; we don't want to build up a computational\n",
        "      # graph for the update steps, so we use the torch.no_grad() context manager\n",
        "      # to prevent PyTorch from building a computational graph for the updates\n",
        "      \"\"\"\n",
        "      with torch.no_grad():\n",
        "          wb = wb - learning_rate * wb.grad\n",
        "      wb.requires_grad = True\n",
        "      \"\"\"\n",
        "      # Using built-in optimizer\n",
        "      optimizer.step()\n",
        "      optimizer.zero_grad()\n",
        "  L.append(epoch_loss) #save for history and plotting\n",
        "\n",
        "\n",
        "wbn = wb.detach().numpy()\n",
        "def clf(inputs): \n",
        "  return inputs@wbn[1:]+wbn[0]\n",
        "plt.close(\"all\")\n",
        "plt.plot(L)\n",
        "plt.grid(); plt.xlabel('Epochs'); plt.ylabel('value');plt.legend(['Loss','Objective'])\n",
        "print(\"Predictions: \",clf(inputs))\n",
        "print(\"Weights: \",wbn)\n",
        "plt.figure()\n",
        "\n",
        "\n",
        "plotit(inputs,targets,clf=clf,conts=[0],extent = [-5,+5,-5,+5])"
      ],
      "execution_count": 6,
      "outputs": [
        {
          "output_type": "stream",
          "text": [
            "Predictions:  [-2.0265907  -1.00253381  2.93221575  1.04557998]\n",
            "Weights:  [-1.1640118   0.86257887  0.16147803]\n"
          ],
          "name": "stdout"
        },
        {
          "output_type": "stream",
          "text": [
            "/usr/local/lib/python3.7/dist-packages/ipykernel_launcher.py:68: UserWarning: The following kwargs were not used by contour: 'label'\n"
          ],
          "name": "stderr"
        },
        {
          "output_type": "display_data",
          "data": {
            "image/png": "[encoded data removed]",
            "text/plain": [
              "<Figure size 432x288 with 1 Axes>"
            ]
          },
          "metadata": {
            "tags": [],
            "needs_background": "light"
          }
        },
        {
          "output_type": "display_data",
          "data": {
            "image/png": "[encoded data removed]",
            "text/plain": [
              "<Figure size 432x288 with 2 Axes>"
            ]
          },
          "metadata": {
            "tags": [],
            "needs_background": "light"
          }
        },
        {
          "output_type": "execute_result",
          "data": {
            "text/plain": [
              "[-5, 5, -5, 5]"
            ]
          },
          "metadata": {
            "tags": []
          },
          "execution_count": 6
        }
      ]
    },
    {
      "cell_type": "markdown",
      "metadata": {
        "id": "581IIa-RLwlY"
      },
      "source": [
        "Questions:\r\n",
        "\r\n",
        "See if you can add an activation function (such as torch.tanh on the net input (y_pred) and study its impact on the classification?\r\n",
        "\r\n",
        "For prediction labels such as +1/-1, is it okay to use Rectified Linear (ReLU) activation?"
      ]
    }
  ]
}