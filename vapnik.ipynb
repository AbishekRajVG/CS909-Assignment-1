{
  "nbformat": 4,
  "nbformat_minor": 0,
  "metadata": {
    "colab": {
      "name": "barebones.ipynb",
      "provenance": [],
      "authorship_tag": "ABX9TyMdzM3MLLTQ0P4Vw2umnIcL",
      "include_colab_link": true
    },
    "kernelspec": {
      "name": "python3",
      "display_name": "Python 3"
    }
  },
  "cells": [
    {
      "cell_type": "markdown",
      "metadata": {
        "id": "view-in-github",
        "colab_type": "text"
      },
      "source": [
        "<a href=\"https://colab.research.google.com/github/foxtrotmike/CS909/blob/master/vapnik.ipynb\" target=\"_parent\"><img src=\"https://colab.research.google.com/assets/colab-badge.svg\" alt=\"Open In Colab\"/></a>"
      ]
    },
    {
      "cell_type": "code",
      "metadata": {
        "id": "TG-En3BVlBGG",
        "colab": {
          "base_uri": "https://localhost:8080/",
          "height": 352
        },
        "outputId": "bcde1aa1-ca0b-42dd-c5b8-145671238891"
      },
      "source": [
        "\"\"\"\n",
        "Author: Fayyaz Minhas\n",
        "\"\"\"\n",
        "import numpy as np\n",
        "import matplotlib.pyplot as plt\n",
        "import torch\n",
        "import torch.nn.modules as nn\n",
        "import torch.optim as optim\n",
        "from sklearn.datasets import make_moons, make_circles;  \n",
        "#Let's generate some data\n",
        "\n",
        "#X,y = make_circles(n_samples=800,  shuffle=True, noise=0.05, random_state=None, factor = 0.5)\n",
        "#Xp = X[y==1]; Xn = X[y!=1]\n",
        "Xp = 1.0+np.random.randn(100,2); Xn = 4+np.random.randn(100,2);\n",
        "inputs = np.vstack((Xp,Xn))\t\n",
        "#labels\n",
        "targets = np.hstack((np.ones(len(Xp)),-np.ones(len(Xn))))\n",
        "ttargets = targets+0 #copy of true labels\n",
        " \n",
        "from sklearn.metrics.pairwise import rbf_kernel\n",
        "#K = (np.dot(inputs,inputs.T)+1)**2\n",
        "K = rbf_kernel(inputs,gamma=2.0)\n",
        "K = torch.from_numpy(K).float() #kernel\n",
        "P = 1.0\n",
        "device = torch.device('cpu')\n",
        "#device = torch.device('cuda') # Uncomment this to run on GPU\n",
        "x = torch.from_numpy(inputs).float()\n",
        "y = torch.from_numpy(targets).float()\n",
        "N, D_in,D_out = x.shape[0], x.shape[1], 1\n",
        "\n",
        "learning_rate = 1e-2\n",
        "\n",
        "\n",
        "uidx, pidx, nidx = torch.isnan(y), y==1, y==-1\n",
        "n_unsupv, n_pos, n_neg = torch.sum(uidx), torch.sum(pidx), torch.sum(nidx)\n",
        "lower, upper = -(1.0 / np.sqrt(D_in)), (1.0 / np.sqrt(N)) #xavier weight init\n",
        "wb = lower + torch.rand(D_in) * (upper - lower)\n",
        "wb = torch.tensor(wb,requires_grad=True)\n",
        "bb = torch.tensor(0.0,requires_grad=True)\n",
        "optimizer = optim.Adam([wb,bb], lr=learning_rate)\n",
        "L = [] #history of losses\n",
        "for epoch in range(2000):\n",
        "      \"\"\"\n",
        "      # REPRESENTATION\n",
        "      \"\"\"\n",
        "      y_pred = x@wb+bb\n",
        "      # Evaluation   \n",
        "      obj = (y-y_pred)@(K+P)@(y-y_pred)\n",
        "\n",
        "      \"\"\"\n",
        "      #OPTIMIZATION\n",
        "      \"\"\"    \n",
        "      obj.backward()\n",
        "      # Using built-in optimizer\n",
        "      optimizer.step()\n",
        "      optimizer.zero_grad()\n",
        "      L.append(obj.detach().numpy()) #save for history and plotting\n",
        "\n",
        "wbn = wb.detach().numpy()\n",
        "#plt.close(\"all\")\n",
        "plt.figure()\n",
        "plt.plot(L);plt.yscale('log')\n",
        "\n",
        "plt.grid(); plt.xlabel('Epochs'); plt.ylabel('value');plt.legend(['Loss','Objective'])\n",
        "\"\"\"\n",
        "def clf(inputs): \n",
        "  return inputs@wb\n",
        "\n",
        "print(\"Predictions: \",clf(inputs))\n",
        "print(\"Weights: \",wbn)\n",
        "plt.figure()\n",
        "\n",
        "\n",
        "plotit(inputs,targets,clf=clf,conts=[0],extent = [-5,+5,-5,+5])\n",
        "\"\"\""
      ],
      "execution_count": null,
      "outputs": [
        {
          "output_type": "stream",
          "name": "stderr",
          "text": [
            "<ipython-input-48-57000cfc4e71>:76: UserWarning: To copy construct from a tensor, it is recommended to use sourceTensor.clone().detach() or sourceTensor.clone().detach().requires_grad_(True), rather than torch.tensor(sourceTensor).\n",
            "  wb = torch.tensor(wb,requires_grad=True)\n"
          ]
        },
        {
          "output_type": "execute_result",
          "data": {
            "text/plain": [
              "'\\ndef clf(inputs): \\n  return inputs@wb\\n\\nprint(\"Predictions: \",clf(inputs))\\nprint(\"Weights: \",wbn)\\nplt.figure()\\n\\n\\nplotit(inputs,targets,clf=clf,conts=[0],extent = [-5,+5,-5,+5])\\n'"
            ],
            "application/vnd.google.colaboratory.intrinsic+json": {
              "type": "string"
            }
          },
          "metadata": {},
          "execution_count": 48
        },
        {
          "output_type": "display_data",
          "data": {
            "text/plain": [
              "<Figure size 432x288 with 1 Axes>"
            ],
            "image/png": "[encoded data removed]"
          },
          "metadata": {
            "needs_background": "light"
          }
        }
      ]
    },
    {
      "cell_type": "code",
      "source": [
        "y_pred = x@wb+bb#wb@K\n",
        "#berr = torch.mean(y_pred[uidx])-cratio\n",
        "berr = 0.0\n",
        "z = (y_pred-berr).detach().numpy()\n",
        "print(\"Accuracy\",np.mean(z*ttargets>0))\n",
        "from sklearn.metrics import roc_auc_score\n",
        "print(\"AUROC\",roc_auc_score(ttargets, z))\n",
        "#print(\"AUROC\",roc_auc_score(ttargets, wbn))"
      ],
      "metadata": {
        "id": "ERafpLRRK0Dm",
        "outputId": "c57af139-3305-4a8c-82c9-188ee74c4d2d",
        "colab": {
          "base_uri": "https://localhost:8080/"
        }
      },
      "execution_count": null,
      "outputs": [
        {
          "output_type": "stream",
          "name": "stdout",
          "text": [
            "Accuracy 0.99\n",
            "AUROC 0.9998\n"
          ]
        }
      ]
    },
    {
      "cell_type": "code",
      "source": [
        "plt.hist(z);plt.title('Prediction Scores')"
      ],
      "metadata": {
        "id": "S5XtmMsjNVab",
        "outputId": "116af4da-b370-4c32-959a-1bd9db2f39ed",
        "colab": {
          "base_uri": "https://localhost:8080/",
          "height": 298
        }
      },
      "execution_count": null,
      "outputs": [
        {
          "output_type": "execute_result",
          "data": {
            "text/plain": [
              "Text(0.5, 1.0, 'Prediction Scores')"
            ]
          },
          "metadata": {},
          "execution_count": 51
        },
        {
          "output_type": "display_data",
          "data": {
            "text/plain": [
              "<Figure size 432x288 with 1 Axes>"
            ],
            "image/png": "[encoded data removed]"
          },
          "metadata": {
            "needs_background": "light"
          }
        }
      ]
    },
    {
      "cell_type": "code",
      "source": [
        "from numpy.random import randn #importing randn\n",
        "import numpy as np #importing numpy\n",
        "import matplotlib.pyplot as plt #importing plotting module\n",
        "import itertools\n",
        "import warnings\n",
        "\n",
        "def plotit(X,Y=None,clf=None,  conts = None, ccolors = ('b','k','r'), colors = ('c','y'), markers = ('s','o'), hold = False, transform = None,extent = None,**kwargs):\n",
        "    \"\"\"\n",
        "    A function for showing data scatter plot and classification boundary\n",
        "    of a classifier for 2D data\n",
        "        X: nxd  matrix of data points\n",
        "        Y: (optional) n vector of class labels\n",
        "        clf: (optional) classification/discriminant function handle\n",
        "        conts: (optional) contours (if None, contours are drawn for each class boundary)\n",
        "        ccolors: (optional) colors for contours   \n",
        "        colors: (optional) colors for each class (sorted wrt class id)\n",
        "            can be 'scaled' or 'random' or a list/tuple of color ids\n",
        "        markers: (optional) markers for each class (sorted wrt class id)\n",
        "        hold: Whether to hold the plot or not for overlay (default: False).\n",
        "        transform: (optional) a function handle for transforming data before passing to clf\n",
        "        kwargs: any keyword arguments to be passed to clf (if any)        \n",
        "    \"\"\"\n",
        "    if clf is not None and X.shape[1]!=2:\n",
        "        warnings.warn(\"Data Dimensionality is not 2. Unable to plot.\")\n",
        "        return\n",
        "    if markers is None:\n",
        "        markers = ('.',)\n",
        "    eps=1e-6\n",
        "    d0,d1 = (0,1)\n",
        "    if extent is None:\n",
        "        minx, maxx = np.min(X[:,d0])-eps, np.max(X[:,d0])+eps\n",
        "        miny, maxy = np.min(X[:,d1])-eps, np.max(X[:,d1])+eps\n",
        "        extent = [minx,maxx,miny,maxy]\n",
        "    else:\n",
        "        [minx,maxx,miny,maxy] = extent\n",
        "    if Y is not None:\n",
        "        classes = sorted(set(Y))\n",
        "        if conts is None or len(conts)<2:\n",
        "            #conts = list(classes)\n",
        "            vmin,vmax = classes[0]-eps,classes[-1]+eps\n",
        "        else:            \n",
        "            vmin,vmax= np.min(conts)-eps,np.max(conts)+eps\n",
        "        \n",
        "    else:\n",
        "        vmin,vmax=-2-eps,2+eps\n",
        "        if conts is None or len(conts)<2:            \n",
        "            conts = sorted([-1+eps,0,1-eps])\n",
        "        else:\n",
        "            vmin,vmax= np.min(conts)-eps,np.max(conts)+eps\n",
        "        \n",
        "    if clf is not None:\n",
        "        npts = 150\n",
        "        x = np.linspace(minx,maxx,npts)\n",
        "        y = np.linspace(miny,maxy,npts)\n",
        "        t = np.array(list(itertools.product(x,y)))\n",
        "        if transform is not None:\n",
        "            t = transform(t)\n",
        "        z = clf(t,**kwargs)\n",
        "        \n",
        "        z = np.reshape(z,(npts,npts)).T        \n",
        "        \n",
        "        \n",
        "        plt.contour(x,y,z,conts,linewidths = [2],colors=ccolors,extent=extent, label='f(x)=0')\n",
        "        #plt.imshow(np.flipud(z), extent = extent, cmap=plt.cm.Purples, vmin = -2, vmax = +2); plt.colorbar()\n",
        "        plt.pcolormesh(x, y, z,cmap=plt.cm.Purples,vmin=vmin,vmax=vmax);plt.colorbar()\n",
        "        plt.axis(extent)\n",
        "    \n",
        "    if Y is not None:        \n",
        "        for i,y in enumerate(classes):\n",
        "            \n",
        "            if colors is None or colors=='scaled':\n",
        "                cc = np.array([[i,i,i]])/float(len(classes))\n",
        "            elif colors =='random':\n",
        "                cc = np.array([[np.random.rand(),np.random.rand(),np.random.rand()]])\n",
        "            else:\n",
        "                cc = colors[i%len(colors)]\n",
        "            \n",
        "            mm = markers[i%len(markers)]\n",
        "            plt.scatter(X[Y==y,d0],X[Y==y,d1], marker = mm,c = cc, s = 50)     \n",
        "         \n",
        "    else:\n",
        "        plt.scatter(X[:,d0],X[:,d1],marker = markers[0], c = 'k', s = 5)\n",
        "    plt.xlabel('$x_1$')\n",
        "    plt.ylabel('$x_2$')   \n",
        "    if not hold:\n",
        "        plt.grid()        \n",
        "        plt.show()\n",
        "    return extent"
      ],
      "metadata": {
        "id": "9XfH2Z-Whwxv"
      },
      "execution_count": null,
      "outputs": []
    },
    {
      "cell_type": "code",
      "source": [
        "plt.title(\"Labeled Examples\");plotit(inputs,(2*((pidx+nidx)>0)-1).numpy()); plotit(inputs,2*(z>0)-1)"
      ],
      "metadata": {
        "colab": {
          "base_uri": "https://localhost:8080/",
          "height": 578
        },
        "id": "1oMt8gKZzREX",
        "outputId": "5b71906f-a767-4c43-83b5-a7fbdc136aa4"
      },
      "execution_count": null,
      "outputs": [
        {
          "output_type": "display_data",
          "data": {
            "text/plain": [
              "<Figure size 432x288 with 1 Axes>"
            ],
            "image/png": "[encoded data removed]"
          },
          "metadata": {
            "needs_background": "light"
          }
        },
        {
          "output_type": "display_data",
          "data": {
            "text/plain": [
              "<Figure size 432x288 with 1 Axes>"
            ],
            "image/png": "[encoded data removed]"
          },
          "metadata": {
            "needs_background": "light"
          }
        },
        {
          "output_type": "execute_result",
          "data": {
            "text/plain": [
              "[-1.5559881544640708, 6.060101392292032, -1.343941791248733, 5.997269500015482]"
            ]
          },
          "metadata": {},
          "execution_count": 57
        }
      ]
    }
  ]
}