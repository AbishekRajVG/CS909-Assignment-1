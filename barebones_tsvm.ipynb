{
  "nbformat": 4,
  "nbformat_minor": 0,
  "metadata": {
    "colab": {
      "name": "barebones.ipynb",
      "provenance": [],
      "collapsed_sections": [],
      "authorship_tag": "ABX9TyNeVXUOq6kjc11cyh6PZvHC",
      "include_colab_link": true
    },
    "kernelspec": {
      "name": "python3",
      "display_name": "Python 3"
    }
  },
  "cells": [
    {
      "cell_type": "markdown",
      "metadata": {
        "id": "view-in-github",
        "colab_type": "text"
      },
      "source": [
        "<a href=\"https://colab.research.google.com/github/foxtrotmike/CS909/blob/master/barebones_tsvm.ipynb\" target=\"_parent\"><img src=\"https://colab.research.google.com/assets/colab-badge.svg\" alt=\"Open In Colab\"/></a>"
      ]
    },
    {
      "cell_type": "code",
      "metadata": {
        "id": "Znhwloohk7Bj"
      },
      "source": [
        "# -*- coding: utf-8 -*-\n",
        "\"\"\"\n",
        "@author: Dr. Fayyaz Minhas\n",
        "2D Scatter Plotter for Classification\n",
        "\"\"\"\n",
        "from numpy.random import randn #importing randn\n",
        "import numpy as np #importing numpy\n",
        "import matplotlib.pyplot as plt #importing plotting module\n",
        "import itertools\n",
        "import warnings\n",
        "\n",
        "def plotit(X,Y=None,clf=None,  conts = None, ccolors = ('b','k','r'), colors = ('c','y'), markers = ('s','o'), hold = False, transform = None,extent = None,**kwargs):\n",
        "    \"\"\"\n",
        "    A function for showing data scatter plot and classification boundary\n",
        "    of a classifier for 2D data\n",
        "        X: nxd  matrix of data points\n",
        "        Y: (optional) n vector of class labels\n",
        "        clf: (optional) classification/discriminant function handle\n",
        "        conts: (optional) contours (if None, contours are drawn for each class boundary)\n",
        "        ccolors: (optional) colors for contours   \n",
        "        colors: (optional) colors for each class (sorted wrt class id)\n",
        "            can be 'scaled' or 'random' or a list/tuple of color ids\n",
        "        markers: (optional) markers for each class (sorted wrt class id)\n",
        "        hold: Whether to hold the plot or not for overlay (default: False).\n",
        "        transform: (optional) a function handle for transforming data before passing to clf\n",
        "        kwargs: any keyword arguments to be passed to clf (if any)        \n",
        "    \"\"\"\n",
        "    if clf is not None and X.shape[1]!=2:\n",
        "        warnings.warn(\"Data Dimensionality is not 2. Unable to plot.\")\n",
        "        return\n",
        "    if markers is None:\n",
        "        markers = ('.',)\n",
        "    eps=1e-6\n",
        "    d0,d1 = (0,1)\n",
        "    if extent is None:\n",
        "        minx, maxx = np.min(X[:,d0])-eps, np.max(X[:,d0])+eps\n",
        "        miny, maxy = np.min(X[:,d1])-eps, np.max(X[:,d1])+eps\n",
        "        extent = [minx,maxx,miny,maxy]\n",
        "    else:\n",
        "        [minx,maxx,miny,maxy] = extent\n",
        "    if Y is not None:\n",
        "        classes = sorted(set(Y))\n",
        "        if conts is None or len(conts)<2:\n",
        "            #conts = list(classes)\n",
        "            vmin,vmax = classes[0]-eps,classes[-1]+eps\n",
        "        else:            \n",
        "            vmin,vmax= np.min(conts)-eps,np.max(conts)+eps\n",
        "        \n",
        "    else:\n",
        "        vmin,vmax=-2-eps,2+eps\n",
        "        if conts is None or len(conts)<2:            \n",
        "            conts = sorted([-1+eps,0,1-eps])\n",
        "        else:\n",
        "            vmin,vmax= np.min(conts)-eps,np.max(conts)+eps\n",
        "        \n",
        "    if clf is not None:\n",
        "        npts = 150\n",
        "        x = np.linspace(minx,maxx,npts)\n",
        "        y = np.linspace(miny,maxy,npts)\n",
        "        t = np.array(list(itertools.product(x,y)))\n",
        "        if transform is not None:\n",
        "            t = transform(t)\n",
        "        z = clf(t,**kwargs)\n",
        "        \n",
        "        z = np.reshape(z,(npts,npts)).T        \n",
        "        \n",
        "        \n",
        "        plt.contour(x,y,z,conts,linewidths = [2],colors=ccolors,extent=extent, label='f(x)=0')\n",
        "        #plt.imshow(np.flipud(z), extent = extent, cmap=plt.cm.Purples, vmin = -2, vmax = +2); plt.colorbar()\n",
        "        plt.pcolormesh(x, y, z,cmap=plt.cm.Purples,vmin=vmin,vmax=vmax);plt.colorbar()\n",
        "        plt.axis(extent)\n",
        "    \n",
        "    if Y is not None:        \n",
        "        for i,y in enumerate(classes):\n",
        "            \n",
        "            if colors is None or colors=='scaled':\n",
        "                cc = np.array([[i,i,i]])/float(len(classes))\n",
        "            elif colors =='random':\n",
        "                cc = np.array([[np.random.rand(),np.random.rand(),np.random.rand()]])\n",
        "            else:\n",
        "                cc = colors[i%len(colors)]\n",
        "            \n",
        "            mm = markers[i%len(markers)]\n",
        "            plt.scatter(X[Y==y,d0],X[Y==y,d1], marker = mm,c = cc, s = 50)     \n",
        "         \n",
        "    else:\n",
        "        plt.scatter(X[:,d0],X[:,d1],marker = markers[0], c = 'k', s = 5)\n",
        "    plt.xlabel('$x_1$')\n",
        "    plt.ylabel('$x_2$')   \n",
        "    if not hold:\n",
        "        plt.grid()        \n",
        "        plt.show()\n",
        "    return extent\n"
      ],
      "execution_count": 9,
      "outputs": []
    },
    {
      "cell_type": "code",
      "metadata": {
        "id": "TG-En3BVlBGG",
        "colab": {
          "base_uri": "https://localhost:8080/",
          "height": 520
        },
        "outputId": "430589a5-e288-4c2f-be47-e17e4736e44c"
      },
      "source": [
        "\"\"\"\n",
        "Author: Fayyaz Minhas\n",
        "A barebones single neuron model example with pytorch\n",
        "You will need plotit for this (https://github.com/foxtrotmike/plotit)\n",
        "Demonstrates: \n",
        "    Representation, Evaluation and Optimization\n",
        "    concept of loss functions, SRM objective function\n",
        "    automatic differentiation\n",
        "    optimization\n",
        "Things to try: What happens if you:\n",
        "    change the input from bipolar to binary\n",
        "    change the targets from bipolar to binary\n",
        "    change the loss function\n",
        "    change the activation function\n",
        "    change the regularization parameter\n",
        "    can solve a linearly inseparable classification problem\n",
        "\"\"\"\n",
        "import numpy as np\n",
        "import matplotlib.pyplot as plt\n",
        "import torch\n",
        "import torch.nn.modules as nn\n",
        "import torch.optim as optim\n",
        "\n",
        "#Let's generate some data\n",
        "#inputs = 2*np.array([[0,0],[0,1],[1,0],[1,1]],dtype=np.float)-1\n",
        "#targets = np.array([-1,-1,-1,1],dtype=np.float)\n",
        "inputs = np.array([[-1.0,0],[0,1],[4,4],[2,3]])\n",
        "targets = np.array([-1,-1,+1,+1])\n",
        "\n",
        "\n",
        "Xp = 1.5+np.random.randn(100,2); Xn = -1.5-np.random.randn(100,2);\n",
        "inputs = np.vstack((Xp,Xn))\t\n",
        "targets = np.hstack((np.ones(len(Xp)),-np.ones(len(Xn))))\n",
        "ttargets = targets+0\n",
        "targets[0:]=np.nan\n",
        "targets[0]=1.0\n",
        "targets[-1]=-1.0\n",
        "K = (np.dot(inputs,inputs.T)+1)**2\n",
        "from sklearn.metrics.pairwise import rbf_kernel\n",
        "K = rbf_kernel(inputs)\n",
        "K = torch.from_numpy(K).float() #kernel\n",
        "device = torch.device('cpu')\n",
        "#device = torch.device('cuda') # Uncomment this to run on GPU\n",
        "x = torch.from_numpy(inputs).float()\n",
        "y = torch.from_numpy(targets).float()\n",
        "N, D_in,D_out = x.shape[0], x.shape[1], 1\n",
        "# Loss function implementation\n",
        "def L1(z):\n",
        "    g = 5\n",
        "    zz = torch.zeros((2,len(z)))\n",
        "    zz[1] = 1-z    \n",
        "    closs = torch.logsumexp(g*zz,0)/g\n",
        "    return closs\n",
        "def L2(z):\n",
        "    g = 5\n",
        "    zz = torch.zeros((2,len(z)))\n",
        "    zz[1] = z\n",
        "    az = (torch.logsumexp(-g*zz,0)+torch.logsumexp(g*zz,0))/g #smooth approximation of abs https://math.stackexchange.com/questions/728094/approximate-x-with-a-smooth-function\n",
        "    #az = torch.logsumexp(g*zz,0)*2/g-z-(2/g)*torch.log(torch.tensor(2)) #smooth approximation of abs \n",
        "    zz[1] = 1-az    \n",
        "    closs= torch.logsumexp(g*zz,0)/g #approx of max(0,1-abs(z))\n",
        "    #closs = torch.exp(-3*(z**2)) #original approximation used in the paper \n",
        "    # closs = torch.exp(-3*(z**2)) #original approximation used in the paper \"LARGE SCALE TRANSDUCTIVE SVMS\"  by Collobert 2006\n",
        "    return closs\n",
        "\n",
        "def hinge(y_true, y_pred):\n",
        "    zero = torch.Tensor([0]) \n",
        "    return torch.max(zero, 1 - y_true * y_pred) \n",
        "def sq_loss(y_true,y_pred):\n",
        "    return (y_true-y_pred)**2\n",
        "def logistic_loss(y_true,y_pred):\n",
        "    return torch.log(1+torch.exp(- y_true * y_pred))\n",
        "# Other loss functions can also be implemented\n",
        "eps = 1e-6\n",
        "# Create random Tensors for weights; setting requires_grad=True means that we\n",
        "# want to compute gradients for these Tensors during the backward pass.\n",
        "wb = torch.randn(N, device=device, requires_grad=True)\n",
        "wb = torch.tensor(torch.empty(N).normal_(mean=0,std=0.1), requires_grad=True)\n",
        "#Note: we have added one additional weight (for bias)\n",
        "learning_rate = 1e-2\n",
        "lambda_w = 0\n",
        "lambda_u = 1e-1\n",
        "optimizer = optim.SGD([wb], lr=learning_rate)\n",
        "L = [] #history of losses\n",
        "vidx = ~torch.isnan(y)\n",
        "pidx = y==1\n",
        "nidx = y==-1\n",
        "for epoch in range(1000):\n",
        "      \"\"\"\n",
        "      # REPRESENTATION\n",
        "      \"\"\"\n",
        "      y_pred = wb@K\n",
        "      \"\"\"\n",
        "      # EVALUATION\n",
        "      \"\"\"\n",
        "      # Compute and print loss. Loss is a Tensor of shape (), and loss.item()\n",
        "      # is a Python number giving its value.\n",
        "      #loss = (y_pred - y).pow(2).mean() #loss = lossf(y_pred,y)      \n",
        "      loss_s = (torch.mean(L1(y_pred[pidx]))+torch.mean(L1(-1*y_pred[nidx])))/2.0\n",
        "      loss_u = torch.mean(L2(y_pred[~vidx]))\n",
        "      #loss = torch.mean(hinge(y,y_pred))\n",
        "      obj = loss_s+lambda_u*loss_u+lambda_w*wb@K@wb#+0.0*torch.dot(wb,wb) #empirical loss + regularization\n",
        "      #epoch_loss+=loss#.item()      \n",
        "\n",
        "      \"\"\"\n",
        "      #OPTIMIZATION\n",
        "      \"\"\"\n",
        "      # Use autograd to compute the backward pass. This call will compute the\n",
        "      # gradient of loss with respect to all Tensors with requires_grad=True.\n",
        "      # After this call w1.grad will be Tensors holding the gradient\n",
        "      # of the loss with respect to w1.\n",
        "      obj.backward()\n",
        "    \n",
        "      # Update weights using gradient descent. For this step we just want to mutate\n",
        "      # the values of w1 in-place; we don't want to build up a computational\n",
        "      # graph for the update steps, so we use the torch.no_grad() context manager\n",
        "      # to prevent PyTorch from building a computational graph for the updates\n",
        "      \"\"\"\n",
        "      with torch.no_grad():\n",
        "          wb = wb - learning_rate * wb.grad\n",
        "      wb.requires_grad = True\n",
        "      \"\"\"\n",
        "      # Using built-in optimizer\n",
        "      optimizer.step()\n",
        "      optimizer.zero_grad()\n",
        "      L.append(obj.detach().numpy()) #save for history and plotting\n",
        "\n",
        "wbn = wb.detach().numpy()\n",
        "\n",
        "plt.close(\"all\")\n",
        "plt.plot(L)\n",
        "1/0\n",
        "\n",
        "def clf(inputs): \n",
        "  return inputs@wb\n",
        "\n",
        "plt.grid(); plt.xlabel('Epochs'); plt.ylabel('value');plt.legend(['Loss','Objective'])\n",
        "print(\"Predictions: \",clf(inputs))\n",
        "print(\"Weights: \",wbn)\n",
        "plt.figure()\n",
        "\n",
        "\n",
        "plotit(inputs,targets,clf=clf,conts=[0],extent = [-5,+5,-5,+5])"
      ],
      "execution_count": 262,
      "outputs": [
        {
          "output_type": "stream",
          "name": "stderr",
          "text": [
            "/usr/local/lib/python3.7/dist-packages/ipykernel_launcher.py:78: UserWarning: To copy construct from a tensor, it is recommended to use sourceTensor.clone().detach() or sourceTensor.clone().detach().requires_grad_(True), rather than torch.tensor(sourceTensor).\n"
          ]
        },
        {
          "output_type": "error",
          "ename": "ZeroDivisionError",
          "evalue": "ignored",
          "traceback": [
            "\u001b[0;31m---------------------------------------------------------------------------\u001b[0m",
            "\u001b[0;31mZeroDivisionError\u001b[0m                         Traceback (most recent call last)",
            "\u001b[0;32m<ipython-input-262-77b1ce0490a3>\u001b[0m in \u001b[0;36m<module>\u001b[0;34m()\u001b[0m\n\u001b[1;32m    130\u001b[0m \u001b[0mplt\u001b[0m\u001b[0;34m.\u001b[0m\u001b[0mclose\u001b[0m\u001b[0;34m(\u001b[0m\u001b[0;34m\"all\"\u001b[0m\u001b[0;34m)\u001b[0m\u001b[0;34m\u001b[0m\u001b[0;34m\u001b[0m\u001b[0m\n\u001b[1;32m    131\u001b[0m \u001b[0mplt\u001b[0m\u001b[0;34m.\u001b[0m\u001b[0mplot\u001b[0m\u001b[0;34m(\u001b[0m\u001b[0mL\u001b[0m\u001b[0;34m)\u001b[0m\u001b[0;34m\u001b[0m\u001b[0;34m\u001b[0m\u001b[0m\n\u001b[0;32m--> 132\u001b[0;31m \u001b[0;36m1\u001b[0m\u001b[0;34m/\u001b[0m\u001b[0;36m0\u001b[0m\u001b[0;34m\u001b[0m\u001b[0;34m\u001b[0m\u001b[0m\n\u001b[0m\u001b[1;32m    133\u001b[0m \u001b[0;34m\u001b[0m\u001b[0m\n\u001b[1;32m    134\u001b[0m \u001b[0;32mdef\u001b[0m \u001b[0mclf\u001b[0m\u001b[0;34m(\u001b[0m\u001b[0minputs\u001b[0m\u001b[0;34m)\u001b[0m\u001b[0;34m:\u001b[0m\u001b[0;34m\u001b[0m\u001b[0;34m\u001b[0m\u001b[0m\n",
            "\u001b[0;31mZeroDivisionError\u001b[0m: division by zero"
          ]
        },
        {
          "output_type": "display_data",
          "data": {
            "text/plain": [
              "<Figure size 432x288 with 1 Axes>"
            ],
            "image/png": "[encoded data removed]"
          },
          "metadata": {
            "needs_background": "light"
          }
        }
      ]
    },
    {
      "cell_type": "code",
      "source": [
        "torch.mean(L1(y[y_pred==1]))"
      ],
      "metadata": {
        "id": "Z9MVO51IYxbf",
        "outputId": "4000c0cb-174f-41f2-db2d-186bdb486221",
        "colab": {
          "base_uri": "https://localhost:8080/"
        }
      },
      "execution_count": 258,
      "outputs": [
        {
          "output_type": "execute_result",
          "data": {
            "text/plain": [
              "tensor(nan)"
            ]
          },
          "metadata": {},
          "execution_count": 258
        }
      ]
    },
    {
      "cell_type": "markdown",
      "metadata": {
        "id": "581IIa-RLwlY"
      },
      "source": [
        "Questions:\n",
        "\n",
        "See if you can add an activation function (such as torch.tanh on the net input (y_pred) and study its impact on the classification?\n",
        "\n",
        "For prediction labels such as +1/-1, is it okay to use Rectified Linear (ReLU) activation?"
      ]
    },
    {
      "cell_type": "code",
      "source": [
        "torch.sum((wb@K*torch.from_numpy(ttargets))>0)/len(y)"
      ],
      "metadata": {
        "id": "ERafpLRRK0Dm",
        "outputId": "35e18194-a9ba-4eec-fd32-09d7bceb3eab",
        "colab": {
          "base_uri": "https://localhost:8080/"
        }
      },
      "execution_count": 263,
      "outputs": [
        {
          "output_type": "execute_result",
          "data": {
            "text/plain": [
              "tensor(0.9600)"
            ]
          },
          "metadata": {},
          "execution_count": 263
        }
      ]
    },
    {
      "cell_type": "code",
      "source": [
        "plt.hist(np.sort(wb.detach().numpy()))"
      ],
      "metadata": {
        "id": "S5XtmMsjNVab",
        "outputId": "76b1bb90-cc9a-459d-eaeb-c21fa13f00be",
        "colab": {
          "base_uri": "https://localhost:8080/",
          "height": 352
        }
      },
      "execution_count": 264,
      "outputs": [
        {
          "output_type": "execute_result",
          "data": {
            "text/plain": [
              "(array([ 4.,  5., 13., 20., 68., 42., 29., 11.,  6.,  2.]),\n",
              " array([-0.39799377, -0.319013  , -0.2400322 , -0.16105141, -0.08207062,\n",
              "        -0.00308983,  0.07589096,  0.15487175,  0.23385254,  0.3128333 ,\n",
              "         0.3918141 ], dtype=float32),\n",
              " <a list of 10 Patch objects>)"
            ]
          },
          "metadata": {},
          "execution_count": 264
        },
        {
          "output_type": "display_data",
          "data": {
            "text/plain": [
              "<Figure size 432x288 with 1 Axes>"
            ],
            "image/png": "[encoded data removed]"
          },
          "metadata": {
            "needs_background": "light"
          }
        }
      ]
    },
    {
      "cell_type": "code",
      "source": [
        "plt.hist(np.sort(wb.detach().numpy()))"
      ],
      "metadata": {
        "id": "hOgJslRuN2mb",
        "outputId": "ba131383-878f-4b26-a5a6-db48f7c27a95",
        "colab": {
          "base_uri": "https://localhost:8080/",
          "height": 352
        }
      },
      "execution_count": 211,
      "outputs": [
        {
          "output_type": "execute_result",
          "data": {
            "text/plain": [
              "(array([ 5.,  4., 17., 33., 36., 44., 31., 16., 10.,  4.]),\n",
              " array([-0.2653972 , -0.21295321, -0.16050923, -0.10806525, -0.05562128,\n",
              "        -0.0031773 ,  0.04926668,  0.10171065,  0.15415463,  0.20659861,\n",
              "         0.2590426 ], dtype=float32),\n",
              " <a list of 10 Patch objects>)"
            ]
          },
          "metadata": {},
          "execution_count": 211
        },
        {
          "output_type": "display_data",
          "data": {
            "text/plain": [
              "<Figure size 432x288 with 1 Axes>"
            ],
            "image/png": "[encoded data removed]"
          },
          "metadata": {
            "needs_background": "light"
          }
        }
      ]
    },
    {
      "cell_type": "code",
      "source": [
        ""
      ],
      "metadata": {
        "id": "UPkKJ1WCOW0K"
      },
      "execution_count": null,
      "outputs": []
    }
  ]
}