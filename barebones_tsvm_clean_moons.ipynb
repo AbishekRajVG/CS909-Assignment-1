{
  "nbformat": 4,
  "nbformat_minor": 0,
  "metadata": {
    "colab": {
      "name": "barebones.ipynb",
      "provenance": [],
      "collapsed_sections": [],
      "authorship_tag": "ABX9TyP2r7K98Swjaxd37xDHhAFL",
      "include_colab_link": true
    },
    "kernelspec": {
      "name": "python3",
      "display_name": "Python 3"
    }
  },
  "cells": [
    {
      "cell_type": "markdown",
      "metadata": {
        "id": "view-in-github",
        "colab_type": "text"
      },
      "source": [
        "<a href=\"https://colab.research.google.com/github/foxtrotmike/CS909/blob/master/barebones_tsvm_clean_moons.ipynb\" target=\"_parent\"><img src=\"https://colab.research.google.com/assets/colab-badge.svg\" alt=\"Open In Colab\"/></a>"
      ]
    },
    {
      "cell_type": "code",
      "metadata": {
        "id": "TG-En3BVlBGG",
        "colab": {
          "base_uri": "https://localhost:8080/",
          "height": 580
        },
        "outputId": "8d186ca8-459c-4e47-8d7e-debdf8a2d36e"
      },
      "source": [
        "\"\"\"\n",
        "Author: Fayyaz Minhas\n",
        "\"\"\"\n",
        "import numpy as np\n",
        "import matplotlib.pyplot as plt\n",
        "import torch\n",
        "import torch.nn.modules as nn\n",
        "import torch.optim as optim\n",
        "from sklearn.datasets import make_moons, make_circles;  \n",
        "#Let's generate some data\n",
        "\n",
        "X,y = make_circles(n_samples=200,  shuffle=True, noise=0.02, random_state=None)\n",
        "Xp = X[y==1]; Xn = X[y!=1]\n",
        "#Xp = 1.0+np.random.randn(100,2); Xn = -1.0-np.random.randn(100,2);\n",
        "inputs = np.vstack((Xp,Xn))\t\n",
        "#labels\n",
        "targets = np.hstack((np.ones(len(Xp)),-np.ones(len(Xn))))\n",
        "ttargets = targets+0 #copy of true labels\n",
        "targets[10:-10]=np.nan; #setting labels to unknown\n",
        "#targets[:3]=1.0;targets[-3:]=-1.0;#assume we only know two labels\n",
        "#kernel \n",
        "from sklearn.metrics.pairwise import rbf_kernel\n",
        "K = (np.dot(inputs,inputs.T)+1)**2\n",
        "K = rbf_kernel(inputs,gamma=2.0)\n",
        "K = torch.from_numpy(K).float() #kernel\n",
        "\n",
        "device = torch.device('cpu')\n",
        "#device = torch.device('cuda') # Uncomment this to run on GPU\n",
        "x = torch.from_numpy(inputs).float()\n",
        "y = torch.from_numpy(targets).float()\n",
        "N, D_in,D_out = x.shape[0], x.shape[1], 1\n",
        "# Loss function implementation\n",
        "def L1(z):\n",
        "    g = 10\n",
        "    zz = torch.zeros((2,len(z)))\n",
        "    zz[1] = 1-z    \n",
        "    closs = torch.logsumexp(g*zz,0)/g\n",
        "    #closs = torch.max(torch.Tensor([0]) , 1 - z) \n",
        "    return closs\n",
        "def L2(z):\n",
        "    #g = 10\n",
        "    #zz = torch.zeros((2,len(z)))\n",
        "    #zz[1] = z\n",
        "    #az = (torch.logsumexp(-g*zz,0)+torch.logsumexp(g*zz,0))/g #smooth approximation of abs https://math.stackexchange.com/questions/728094/approximate-x-with-a-smooth-function\n",
        "    #az = torch.logsumexp(g*zz,0)*2/g-z-(2/g)*torch.log(torch.tensor(2)) #smooth approximation of abs \n",
        "    #zz[1] = 1-az    \n",
        "    #closs= torch.logsumexp(g*zz,0)/g #approx of max(0,1-abs(z))\n",
        "    closs = torch.exp(-3*(z**2)) #original approximation used in the paper \n",
        "    closs = torch.exp(-0.5*(z**2)) #original approximation used in the paper \"LARGE SCALE TRANSDUCTIVE SVMS\"  by Collobert 2006    \n",
        "    #closs= torch.max(torch.Tensor([0]) , 1 - torch.abs(z)) \n",
        "    s = -0.3\n",
        "    #closs = torch.min(torch.tensor(1+s),torch.max(torch.tensor(0),1-torch.abs(z)))\n",
        "    return closs\n",
        "\n",
        "eps = 1e-6\n",
        "# Create random Tensors for weights; setting requires_grad=True means that we\n",
        "# want to compute gradients for these Tensors during the backward pass.\n",
        "#wb = torch.randn(N, device=device, requires_grad=True)\n",
        "#wb = torch.tensor(torch.empty(N).normal_(mean=0.1,std=1.0), requires_grad=True)\n",
        "\n",
        "# Parameters\n",
        "learning_rate = 1e-2\n",
        "lambda_w = 0.01\n",
        "lambda_u = 0.2\n",
        "\n",
        "cratio = np.mean(ttargets)\n",
        "#Training \n",
        "\n",
        "uidx, pidx, nidx = torch.isnan(y), y==1, y==-1\n",
        "n_unsupv, n_pos, n_neg = torch.sum(uidx), torch.sum(pidx), torch.sum(nidx)\n",
        "lower, upper = -(1.0 / np.sqrt(N)), (1.0 / np.sqrt(N)) #xavier weight init\n",
        "wb = lower + torch.rand(N) * (upper - lower)\n",
        "wb[pidx]=torch.abs(wb[pidx])\n",
        "wb[nidx]=-torch.abs(wb[nidx])\n",
        "\n",
        "wb = torch.tensor(wb,requires_grad=True)\n",
        "\n",
        "plt.hist(wb.detach().numpy());plt.title('Sample Weighths')\n",
        "optimizer = optim.Adam([wb], lr=learning_rate)\n",
        "L = [] #history of losses\n",
        "for epoch in range(2000):\n",
        "      \"\"\"\n",
        "      # REPRESENTATION\n",
        "      \"\"\"\n",
        "      y_pred = wb@K\n",
        "      berr = torch.mean(y_pred[~uidx])-cratio\n",
        "      y_pred-=berr\n",
        "      \"\"\"\n",
        "      # EVALUATION\n",
        "      \"\"\"      \n",
        "      loss_s, loss_u = 0.0,0.0\n",
        "      if n_pos:\n",
        "        loss_s = torch.mean(L1(y_pred[pidx]))\n",
        "      if n_neg:\n",
        "        loss_s+=torch.mean(L1(-1*y_pred[nidx]))\n",
        "      if n_unsupv:\n",
        "        loss_u = torch.mean(L2(y_pred[uidx]))/L2(torch.tensor([0]))\n",
        "      \n",
        "      #bloss = 1-torch.exp(-3*(berr**2))\n",
        "      #bloss = torch.abs(berr)\n",
        "      obj = loss_s+lambda_u*loss_u+lambda_w*wb@K@wb#+lambda_b*bloss #empirical loss + regularization     \n",
        "\n",
        "      \"\"\"\n",
        "      #OPTIMIZATION\n",
        "      \"\"\"    \n",
        "      obj.backward()\n",
        "      # Using built-in optimizer\n",
        "      optimizer.step()\n",
        "      optimizer.zero_grad()\n",
        "      L.append(obj.detach().numpy()) #save for history and plotting\n",
        "\n",
        "wbn = wb.detach().numpy()\n",
        "#plt.close(\"all\")\n",
        "plt.figure()\n",
        "plt.plot(L);plt.yscale('log')\n",
        "\n",
        "plt.grid(); plt.xlabel('Epochs'); plt.ylabel('value');plt.legend(['Loss','Objective'])\n",
        "\"\"\"\n",
        "def clf(inputs): \n",
        "  return inputs@wb\n",
        "\n",
        "print(\"Predictions: \",clf(inputs))\n",
        "print(\"Weights: \",wbn)\n",
        "plt.figure()\n",
        "\n",
        "\n",
        "plotit(inputs,targets,clf=clf,conts=[0],extent = [-5,+5,-5,+5])\n",
        "\"\"\""
      ],
      "execution_count": 5595,
      "outputs": [
        {
          "output_type": "stream",
          "name": "stderr",
          "text": [
            "/usr/local/lib/python3.7/dist-packages/ipykernel_launcher.py:76: UserWarning: To copy construct from a tensor, it is recommended to use sourceTensor.clone().detach() or sourceTensor.clone().detach().requires_grad_(True), rather than torch.tensor(sourceTensor).\n"
          ]
        },
        {
          "output_type": "execute_result",
          "data": {
            "text/plain": [
              "'\\ndef clf(inputs): \\n  return inputs@wb\\n\\nprint(\"Predictions: \",clf(inputs))\\nprint(\"Weights: \",wbn)\\nplt.figure()\\n\\n\\nplotit(inputs,targets,clf=clf,conts=[0],extent = [-5,+5,-5,+5])\\n'"
            ],
            "application/vnd.google.colaboratory.intrinsic+json": {
              "type": "string"
            }
          },
          "metadata": {},
          "execution_count": 5595
        },
        {
          "output_type": "display_data",
          "data": {
            "text/plain": [
              "<Figure size 432x288 with 1 Axes>"
            ],
            "image/png": "[encoded data removed]"
          },
          "metadata": {
            "needs_background": "light"
          }
        },
        {
          "output_type": "display_data",
          "data": {
            "text/plain": [
              "<Figure size 432x288 with 1 Axes>"
            ],
            "image/png": "[encoded data removed]"
          },
          "metadata": {
            "needs_background": "light"
          }
        }
      ]
    },
    {
      "cell_type": "code",
      "source": [
        "y_pred = wb@K\n",
        "berr = torch.mean(y_pred[~uidx])-cratio\n",
        "z = (y_pred-berr).detach().numpy()\n",
        "print(\"Accuracy\",np.mean(z*ttargets>0))\n",
        "from sklearn.metrics import roc_auc_score\n",
        "print(\"AUROC\",roc_auc_score(ttargets, z))\n",
        "print(\"AUROC\",roc_auc_score(ttargets, wbn))"
      ],
      "metadata": {
        "id": "ERafpLRRK0Dm",
        "outputId": "921ed96c-8739-4c52-a265-82b038aca749",
        "colab": {
          "base_uri": "https://localhost:8080/"
        }
      },
      "execution_count": 5596,
      "outputs": [
        {
          "output_type": "stream",
          "name": "stdout",
          "text": [
            "Accuracy 0.665\n",
            "AUROC 0.7855\n",
            "AUROC 0.8456\n"
          ]
        }
      ]
    },
    {
      "cell_type": "code",
      "source": [
        "plt.hist(z);plt.title('Prediction Scores')"
      ],
      "metadata": {
        "id": "S5XtmMsjNVab",
        "outputId": "6abb2155-67ac-4c25-e5e6-56436dd079ff",
        "colab": {
          "base_uri": "https://localhost:8080/",
          "height": 299
        }
      },
      "execution_count": 5597,
      "outputs": [
        {
          "output_type": "execute_result",
          "data": {
            "text/plain": [
              "Text(0.5, 1.0, 'Prediction Scores')"
            ]
          },
          "metadata": {},
          "execution_count": 5597
        },
        {
          "output_type": "display_data",
          "data": {
            "text/plain": [
              "<Figure size 432x288 with 1 Axes>"
            ],
            "image/png": "[encoded data removed]"
          },
          "metadata": {
            "needs_background": "light"
          }
        }
      ]
    },
    {
      "cell_type": "code",
      "source": [
        "plt.hist(wbn);plt.title('Sample Weighths')"
      ],
      "metadata": {
        "id": "hOgJslRuN2mb",
        "outputId": "ed529a1c-bf9a-44e9-d868-52fec29acef0",
        "colab": {
          "base_uri": "https://localhost:8080/",
          "height": 299
        }
      },
      "execution_count": 5598,
      "outputs": [
        {
          "output_type": "execute_result",
          "data": {
            "text/plain": [
              "Text(0.5, 1.0, 'Sample Weighths')"
            ]
          },
          "metadata": {},
          "execution_count": 5598
        },
        {
          "output_type": "display_data",
          "data": {
            "text/plain": [
              "<Figure size 432x288 with 1 Axes>"
            ],
            "image/png": "[encoded data removed]"
          },
          "metadata": {
            "needs_background": "light"
          }
        }
      ]
    },
    {
      "cell_type": "code",
      "source": [
        "y"
      ],
      "metadata": {
        "id": "UPkKJ1WCOW0K",
        "outputId": "4c84ca47-eba8-4cf4-be0d-4fe4bb687a77",
        "colab": {
          "base_uri": "https://localhost:8080/"
        }
      },
      "execution_count": 5599,
      "outputs": [
        {
          "output_type": "execute_result",
          "data": {
            "text/plain": [
              "tensor([ 1.,  1.,  1.,  1.,  1.,  1.,  1.,  1.,  1.,  1., nan, nan, nan, nan,\n",
              "        nan, nan, nan, nan, nan, nan, nan, nan, nan, nan, nan, nan, nan, nan,\n",
              "        nan, nan, nan, nan, nan, nan, nan, nan, nan, nan, nan, nan, nan, nan,\n",
              "        nan, nan, nan, nan, nan, nan, nan, nan, nan, nan, nan, nan, nan, nan,\n",
              "        nan, nan, nan, nan, nan, nan, nan, nan, nan, nan, nan, nan, nan, nan,\n",
              "        nan, nan, nan, nan, nan, nan, nan, nan, nan, nan, nan, nan, nan, nan,\n",
              "        nan, nan, nan, nan, nan, nan, nan, nan, nan, nan, nan, nan, nan, nan,\n",
              "        nan, nan, nan, nan, nan, nan, nan, nan, nan, nan, nan, nan, nan, nan,\n",
              "        nan, nan, nan, nan, nan, nan, nan, nan, nan, nan, nan, nan, nan, nan,\n",
              "        nan, nan, nan, nan, nan, nan, nan, nan, nan, nan, nan, nan, nan, nan,\n",
              "        nan, nan, nan, nan, nan, nan, nan, nan, nan, nan, nan, nan, nan, nan,\n",
              "        nan, nan, nan, nan, nan, nan, nan, nan, nan, nan, nan, nan, nan, nan,\n",
              "        nan, nan, nan, nan, nan, nan, nan, nan, nan, nan, nan, nan, nan, nan,\n",
              "        nan, nan, nan, nan, nan, nan, nan, nan, -1., -1., -1., -1., -1., -1.,\n",
              "        -1., -1., -1., -1.])"
            ]
          },
          "metadata": {},
          "execution_count": 5599
        }
      ]
    },
    {
      "cell_type": "code",
      "source": [
        "ttargets"
      ],
      "metadata": {
        "id": "Sd-mQyAfbHSx",
        "colab": {
          "base_uri": "https://localhost:8080/"
        },
        "outputId": "37ee721f-be4d-4ab9-d44f-21d50b2bee4a"
      },
      "execution_count": 5600,
      "outputs": [
        {
          "output_type": "execute_result",
          "data": {
            "text/plain": [
              "array([ 1.,  1.,  1.,  1.,  1.,  1.,  1.,  1.,  1.,  1.,  1.,  1.,  1.,\n",
              "        1.,  1.,  1.,  1.,  1.,  1.,  1.,  1.,  1.,  1.,  1.,  1.,  1.,\n",
              "        1.,  1.,  1.,  1.,  1.,  1.,  1.,  1.,  1.,  1.,  1.,  1.,  1.,\n",
              "        1.,  1.,  1.,  1.,  1.,  1.,  1.,  1.,  1.,  1.,  1.,  1.,  1.,\n",
              "        1.,  1.,  1.,  1.,  1.,  1.,  1.,  1.,  1.,  1.,  1.,  1.,  1.,\n",
              "        1.,  1.,  1.,  1.,  1.,  1.,  1.,  1.,  1.,  1.,  1.,  1.,  1.,\n",
              "        1.,  1.,  1.,  1.,  1.,  1.,  1.,  1.,  1.,  1.,  1.,  1.,  1.,\n",
              "        1.,  1.,  1.,  1.,  1.,  1.,  1.,  1.,  1., -1., -1., -1., -1.,\n",
              "       -1., -1., -1., -1., -1., -1., -1., -1., -1., -1., -1., -1., -1.,\n",
              "       -1., -1., -1., -1., -1., -1., -1., -1., -1., -1., -1., -1., -1.,\n",
              "       -1., -1., -1., -1., -1., -1., -1., -1., -1., -1., -1., -1., -1.,\n",
              "       -1., -1., -1., -1., -1., -1., -1., -1., -1., -1., -1., -1., -1.,\n",
              "       -1., -1., -1., -1., -1., -1., -1., -1., -1., -1., -1., -1., -1.,\n",
              "       -1., -1., -1., -1., -1., -1., -1., -1., -1., -1., -1., -1., -1.,\n",
              "       -1., -1., -1., -1., -1., -1., -1., -1., -1., -1., -1., -1., -1.,\n",
              "       -1., -1., -1., -1., -1.])"
            ]
          },
          "metadata": {},
          "execution_count": 5600
        }
      ]
    },
    {
      "cell_type": "code",
      "source": [
        "np.mean(z[~uidx]),cratio"
      ],
      "metadata": {
        "id": "8g0YTvhjkSGp",
        "colab": {
          "base_uri": "https://localhost:8080/"
        },
        "outputId": "0e68b053-13d4-4fbd-fafe-367b9a094a1a"
      },
      "execution_count": 5601,
      "outputs": [
        {
          "output_type": "execute_result",
          "data": {
            "text/plain": [
              "(1.4901161e-08, 0.0)"
            ]
          },
          "metadata": {},
          "execution_count": 5601
        }
      ]
    },
    {
      "cell_type": "code",
      "source": [
        "from numpy.random import randn #importing randn\n",
        "import numpy as np #importing numpy\n",
        "import matplotlib.pyplot as plt #importing plotting module\n",
        "import itertools\n",
        "import warnings\n",
        "\n",
        "def plotit(X,Y=None,clf=None,  conts = None, ccolors = ('b','k','r'), colors = ('c','y'), markers = ('s','o'), hold = False, transform = None,extent = None,**kwargs):\n",
        "    \"\"\"\n",
        "    A function for showing data scatter plot and classification boundary\n",
        "    of a classifier for 2D data\n",
        "        X: nxd  matrix of data points\n",
        "        Y: (optional) n vector of class labels\n",
        "        clf: (optional) classification/discriminant function handle\n",
        "        conts: (optional) contours (if None, contours are drawn for each class boundary)\n",
        "        ccolors: (optional) colors for contours   \n",
        "        colors: (optional) colors for each class (sorted wrt class id)\n",
        "            can be 'scaled' or 'random' or a list/tuple of color ids\n",
        "        markers: (optional) markers for each class (sorted wrt class id)\n",
        "        hold: Whether to hold the plot or not for overlay (default: False).\n",
        "        transform: (optional) a function handle for transforming data before passing to clf\n",
        "        kwargs: any keyword arguments to be passed to clf (if any)        \n",
        "    \"\"\"\n",
        "    if clf is not None and X.shape[1]!=2:\n",
        "        warnings.warn(\"Data Dimensionality is not 2. Unable to plot.\")\n",
        "        return\n",
        "    if markers is None:\n",
        "        markers = ('.',)\n",
        "    eps=1e-6\n",
        "    d0,d1 = (0,1)\n",
        "    if extent is None:\n",
        "        minx, maxx = np.min(X[:,d0])-eps, np.max(X[:,d0])+eps\n",
        "        miny, maxy = np.min(X[:,d1])-eps, np.max(X[:,d1])+eps\n",
        "        extent = [minx,maxx,miny,maxy]\n",
        "    else:\n",
        "        [minx,maxx,miny,maxy] = extent\n",
        "    if Y is not None:\n",
        "        classes = sorted(set(Y))\n",
        "        if conts is None or len(conts)<2:\n",
        "            #conts = list(classes)\n",
        "            vmin,vmax = classes[0]-eps,classes[-1]+eps\n",
        "        else:            \n",
        "            vmin,vmax= np.min(conts)-eps,np.max(conts)+eps\n",
        "        \n",
        "    else:\n",
        "        vmin,vmax=-2-eps,2+eps\n",
        "        if conts is None or len(conts)<2:            \n",
        "            conts = sorted([-1+eps,0,1-eps])\n",
        "        else:\n",
        "            vmin,vmax= np.min(conts)-eps,np.max(conts)+eps\n",
        "        \n",
        "    if clf is not None:\n",
        "        npts = 150\n",
        "        x = np.linspace(minx,maxx,npts)\n",
        "        y = np.linspace(miny,maxy,npts)\n",
        "        t = np.array(list(itertools.product(x,y)))\n",
        "        if transform is not None:\n",
        "            t = transform(t)\n",
        "        z = clf(t,**kwargs)\n",
        "        \n",
        "        z = np.reshape(z,(npts,npts)).T        \n",
        "        \n",
        "        \n",
        "        plt.contour(x,y,z,conts,linewidths = [2],colors=ccolors,extent=extent, label='f(x)=0')\n",
        "        #plt.imshow(np.flipud(z), extent = extent, cmap=plt.cm.Purples, vmin = -2, vmax = +2); plt.colorbar()\n",
        "        plt.pcolormesh(x, y, z,cmap=plt.cm.Purples,vmin=vmin,vmax=vmax);plt.colorbar()\n",
        "        plt.axis(extent)\n",
        "    \n",
        "    if Y is not None:        \n",
        "        for i,y in enumerate(classes):\n",
        "            \n",
        "            if colors is None or colors=='scaled':\n",
        "                cc = np.array([[i,i,i]])/float(len(classes))\n",
        "            elif colors =='random':\n",
        "                cc = np.array([[np.random.rand(),np.random.rand(),np.random.rand()]])\n",
        "            else:\n",
        "                cc = colors[i%len(colors)]\n",
        "            \n",
        "            mm = markers[i%len(markers)]\n",
        "            plt.scatter(X[Y==y,d0],X[Y==y,d1], marker = mm,c = cc, s = 50)     \n",
        "         \n",
        "    else:\n",
        "        plt.scatter(X[:,d0],X[:,d1],marker = markers[0], c = 'k', s = 5)\n",
        "    plt.xlabel('$x_1$')\n",
        "    plt.ylabel('$x_2$')   \n",
        "    if not hold:\n",
        "        plt.grid()        \n",
        "        plt.show()\n",
        "    return extent"
      ],
      "metadata": {
        "id": "9XfH2Z-Whwxv"
      },
      "execution_count": 5602,
      "outputs": []
    },
    {
      "cell_type": "code",
      "source": [
        "plt.title(\"Labeled Examples\");plotit(inputs,(2*((pidx+nidx)>0)-1).numpy()); plotit(inputs,2*(z>0)-1)"
      ],
      "metadata": {
        "colab": {
          "base_uri": "https://localhost:8080/",
          "height": 634
        },
        "id": "1oMt8gKZzREX",
        "outputId": "c20dbb94-5a23-433c-f2b1-dcf11f7d9520"
      },
      "execution_count": 5603,
      "outputs": [
        {
          "output_type": "display_data",
          "data": {
            "text/plain": [
              "<Figure size 432x288 with 1 Axes>"
            ],
            "image/png": "[encoded data removed]"
          },
          "metadata": {
            "needs_background": "light"
          }
        },
        {
          "output_type": "display_data",
          "data": {
            "text/plain": [
              "<Figure size 432x288 with 1 Axes>"
            ],
            "image/png": "[encoded data removed]"
          },
          "metadata": {
            "needs_background": "light"
          }
        },
        {
          "output_type": "execute_result",
          "data": {
            "text/plain": [
              "[-1.0356244903578913,\n",
              " 1.0384683619200086,\n",
              " -1.0250196565140204,\n",
              " 1.0298420320807873]"
            ]
          },
          "metadata": {},
          "execution_count": 5603
        }
      ]
    },
    {
      "cell_type": "code",
      "source": [
        "plotit(inputs,2*(wbn>0)-1)"
      ],
      "metadata": {
        "colab": {
          "base_uri": "https://localhost:8080/",
          "height": 354
        },
        "id": "WOamUUsgvwLO",
        "outputId": "f349e20e-3d96-4f27-bbab-cdda10488842"
      },
      "execution_count": 5604,
      "outputs": [
        {
          "output_type": "display_data",
          "data": {
            "text/plain": [
              "<Figure size 432x288 with 1 Axes>"
            ],
            "image/png": "[encoded data removed]"
          },
          "metadata": {
            "needs_background": "light"
          }
        },
        {
          "output_type": "execute_result",
          "data": {
            "text/plain": [
              "[-1.0356244903578913,\n",
              " 1.0384683619200086,\n",
              " -1.0250196565140204,\n",
              " 1.0298420320807873]"
            ]
          },
          "metadata": {},
          "execution_count": 5604
        }
      ]
    },
    {
      "cell_type": "code",
      "source": [
        "plotit(inputs,2*((z>0)!=(wbn>0))-1)"
      ],
      "metadata": {
        "colab": {
          "base_uri": "https://localhost:8080/",
          "height": 354
        },
        "id": "zRNSe1w_xuW_",
        "outputId": "0a72a8a3-d0e3-4a8b-a812-7523bb07790a"
      },
      "execution_count": 5605,
      "outputs": [
        {
          "output_type": "display_data",
          "data": {
            "text/plain": [
              "<Figure size 432x288 with 1 Axes>"
            ],
            "image/png": "[encoded data removed]"
          },
          "metadata": {
            "needs_background": "light"
          }
        },
        {
          "output_type": "execute_result",
          "data": {
            "text/plain": [
              "[-1.0356244903578913,\n",
              " 1.0384683619200086,\n",
              " -1.0250196565140204,\n",
              " 1.0298420320807873]"
            ]
          },
          "metadata": {},
          "execution_count": 5605
        }
      ]
    },
    {
      "cell_type": "code",
      "source": [
        ""
      ],
      "metadata": {
        "id": "KmiqymxRz2Nf"
      },
      "execution_count": 5605,
      "outputs": []
    },
    {
      "cell_type": "code",
      "source": [
        ""
      ],
      "metadata": {
        "id": "vE_so2vv0B2Q"
      },
      "execution_count": 5605,
      "outputs": []
    },
    {
      "cell_type": "code",
      "source": [
        "targets"
      ],
      "metadata": {
        "colab": {
          "base_uri": "https://localhost:8080/"
        },
        "id": "TNiJM_TC1IEf",
        "outputId": "64fe9c4e-4bc1-482f-a5d6-aefe0744f32d"
      },
      "execution_count": 5606,
      "outputs": [
        {
          "output_type": "execute_result",
          "data": {
            "text/plain": [
              "array([ 1.,  1.,  1.,  1.,  1.,  1.,  1.,  1.,  1.,  1., nan, nan, nan,\n",
              "       nan, nan, nan, nan, nan, nan, nan, nan, nan, nan, nan, nan, nan,\n",
              "       nan, nan, nan, nan, nan, nan, nan, nan, nan, nan, nan, nan, nan,\n",
              "       nan, nan, nan, nan, nan, nan, nan, nan, nan, nan, nan, nan, nan,\n",
              "       nan, nan, nan, nan, nan, nan, nan, nan, nan, nan, nan, nan, nan,\n",
              "       nan, nan, nan, nan, nan, nan, nan, nan, nan, nan, nan, nan, nan,\n",
              "       nan, nan, nan, nan, nan, nan, nan, nan, nan, nan, nan, nan, nan,\n",
              "       nan, nan, nan, nan, nan, nan, nan, nan, nan, nan, nan, nan, nan,\n",
              "       nan, nan, nan, nan, nan, nan, nan, nan, nan, nan, nan, nan, nan,\n",
              "       nan, nan, nan, nan, nan, nan, nan, nan, nan, nan, nan, nan, nan,\n",
              "       nan, nan, nan, nan, nan, nan, nan, nan, nan, nan, nan, nan, nan,\n",
              "       nan, nan, nan, nan, nan, nan, nan, nan, nan, nan, nan, nan, nan,\n",
              "       nan, nan, nan, nan, nan, nan, nan, nan, nan, nan, nan, nan, nan,\n",
              "       nan, nan, nan, nan, nan, nan, nan, nan, nan, nan, nan, nan, nan,\n",
              "       nan, nan, nan, nan, nan, nan, nan, nan, -1., -1., -1., -1., -1.,\n",
              "       -1., -1., -1., -1., -1.])"
            ]
          },
          "metadata": {},
          "execution_count": 5606
        }
      ]
    },
    {
      "cell_type": "code",
      "source": [
        ""
      ],
      "metadata": {
        "id": "YYUOkXUr4dDk"
      },
      "execution_count": 5606,
      "outputs": []
    }
  ]
}