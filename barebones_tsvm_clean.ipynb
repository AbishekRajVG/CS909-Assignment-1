{
  "nbformat": 4,
  "nbformat_minor": 0,
  "metadata": {
    "colab": {
      "name": "barebones.ipynb",
      "provenance": [],
      "collapsed_sections": [],
      "authorship_tag": "ABX9TyM6RK6fYuoHLirIhOshlXVF",
      "include_colab_link": true
    },
    "kernelspec": {
      "name": "python3",
      "display_name": "Python 3"
    }
  },
  "cells": [
    {
      "cell_type": "markdown",
      "metadata": {
        "id": "view-in-github",
        "colab_type": "text"
      },
      "source": [
        "<a href=\"https://colab.research.google.com/github/foxtrotmike/CS909/blob/master/barebones_tsvm_clean.ipynb\" target=\"_parent\"><img src=\"https://colab.research.google.com/assets/colab-badge.svg\" alt=\"Open In Colab\"/></a>"
      ]
    },
    {
      "cell_type": "code",
      "metadata": {
        "id": "TG-En3BVlBGG",
        "colab": {
          "base_uri": "https://localhost:8080/",
          "height": 341
        },
        "outputId": "4e25fa47-de98-4467-de9e-dc8cbb5bc54e"
      },
      "source": [
        "\"\"\"\n",
        "Author: Fayyaz Minhas\n",
        "\"\"\"\n",
        "import numpy as np\n",
        "import matplotlib.pyplot as plt\n",
        "import torch\n",
        "import torch.nn.modules as nn\n",
        "import torch.optim as optim\n",
        "\n",
        "#Let's generate some data\n",
        "Xp = 1.0+np.random.randn(10,2); Xn = -1.0-np.random.randn(100,2);\n",
        "inputs = np.vstack((Xp,Xn))\t\n",
        "#labels\n",
        "targets = np.hstack((np.ones(len(Xp)),-np.ones(len(Xn))))\n",
        "ttargets = targets+0 #copy of true labels\n",
        "targets[0:]=np.nan; #setting labels to unknown\n",
        "targets[0]=1.0;targets[-1]=-1.0;#assume we only know two labels\n",
        "#kernel \n",
        "from sklearn.metrics.pairwise import rbf_kernel\n",
        "K = (np.dot(inputs,inputs.T)+1)**2\n",
        "K = rbf_kernel(inputs)\n",
        "K = torch.from_numpy(K).float() #kernel\n",
        "\n",
        "device = torch.device('cpu')\n",
        "#device = torch.device('cuda') # Uncomment this to run on GPU\n",
        "x = torch.from_numpy(inputs).float()\n",
        "y = torch.from_numpy(targets).float()\n",
        "N, D_in,D_out = x.shape[0], x.shape[1], 1\n",
        "# Loss function implementation\n",
        "def L1(z):\n",
        "    g = 10\n",
        "    zz = torch.zeros((2,len(z)))\n",
        "    zz[1] = 1-z    \n",
        "    closs = torch.logsumexp(g*zz,0)/g\n",
        "    closs = torch.max(torch.Tensor([0]) , 1 - z) \n",
        "    return closs\n",
        "def L2(z):\n",
        "    g = 10\n",
        "    zz = torch.zeros((2,len(z)))\n",
        "    zz[1] = z\n",
        "    az = (torch.logsumexp(-g*zz,0)+torch.logsumexp(g*zz,0))/g #smooth approximation of abs https://math.stackexchange.com/questions/728094/approximate-x-with-a-smooth-function\n",
        "    #az = torch.logsumexp(g*zz,0)*2/g-z-(2/g)*torch.log(torch.tensor(2)) #smooth approximation of abs \n",
        "    zz[1] = 1-az    \n",
        "    closs= torch.logsumexp(g*zz,0)/g #approx of max(0,1-abs(z))\n",
        "    #closs = torch.exp(-3*(z**2)) #original approximation used in the paper \n",
        "    #closs = torch.exp(-0.5*(z**2)) #original approximation used in the paper \"LARGE SCALE TRANSDUCTIVE SVMS\"  by Collobert 2006    \n",
        "    closs= torch.max(torch.Tensor([0]) , 1 - torch.abs(z)) \n",
        "    s = -0.3\n",
        "    closs = torch.min(torch.tensor(1+s),torch.max(torch.tensor(0),1-torch.abs(z)))\n",
        "    return closs\n",
        "\n",
        "eps = 1e-6\n",
        "# Create random Tensors for weights; setting requires_grad=True means that we\n",
        "# want to compute gradients for these Tensors during the backward pass.\n",
        "wb = torch.randn(N, device=device, requires_grad=True)\n",
        "wb = torch.tensor(torch.empty(N).normal_(mean=0.1,std=0.01), requires_grad=True)\n",
        "# Parameters\n",
        "learning_rate = 1e-2\n",
        "lambda_w = 1e-1\n",
        "lambda_u = 5e-1\n",
        "lambda_b = 1e-1\n",
        "cratio = 0.1\n",
        "#Training \n",
        "optimizer = optim.SGD([wb], lr=learning_rate)\n",
        "L = [] #history of losses\n",
        "uidx, pidx, nidx = torch.isnan(y), y==1, y==-1\n",
        "n_unsupv, n_pos, n_neg = torch.sum(uidx), torch.sum(pidx), torch.sum(nidx)\n",
        "for epoch in range(100):\n",
        "      \"\"\"\n",
        "      # REPRESENTATION\n",
        "      \"\"\"\n",
        "      y_pred = wb@K\n",
        "      \"\"\"\n",
        "      # EVALUATION\n",
        "      \"\"\"      \n",
        "      loss_s, loss_u = 0.0,0.0\n",
        "      if n_pos:\n",
        "        loss_s = torch.mean(L1(y_pred[pidx]))\n",
        "      if n_neg:\n",
        "        loss_s+=torch.mean(L1(-1*y_pred[nidx]))\n",
        "      if n_unsupv:\n",
        "        loss_u = torch.mean(L2(y_pred[uidx]))/L2(torch.tensor([0]))\n",
        "      balance = (torch.mean(y_pred[~uidx])-cratio)**2\n",
        "      obj = loss_s+lambda_u*loss_u+lambda_w*wb@K@wb+lambda_b*balance #empirical loss + regularization     \n",
        "\n",
        "      \"\"\"\n",
        "      #OPTIMIZATION\n",
        "      \"\"\"    \n",
        "      obj.backward()\n",
        "      # Using built-in optimizer\n",
        "      optimizer.step()\n",
        "      optimizer.zero_grad()\n",
        "      L.append(obj.detach().numpy()) #save for history and plotting\n",
        "\n",
        "wbn = wb.detach().numpy()\n",
        "plt.close(\"all\")\n",
        "plt.plot(L);plt.yscale('log')\n",
        "\n",
        "plt.grid(); plt.xlabel('Epochs'); plt.ylabel('value');plt.legend(['Loss','Objective'])\n",
        "\"\"\"\n",
        "def clf(inputs): \n",
        "  return inputs@wb\n",
        "\n",
        "print(\"Predictions: \",clf(inputs))\n",
        "print(\"Weights: \",wbn)\n",
        "plt.figure()\n",
        "\n",
        "\n",
        "plotit(inputs,targets,clf=clf,conts=[0],extent = [-5,+5,-5,+5])\n",
        "\"\"\""
      ],
      "execution_count": 6,
      "outputs": [
        {
          "output_type": "stream",
          "name": "stderr",
          "text": [
            "/usr/local/lib/python3.7/dist-packages/ipykernel_launcher.py:56: UserWarning: To copy construct from a tensor, it is recommended to use sourceTensor.clone().detach() or sourceTensor.clone().detach().requires_grad_(True), rather than torch.tensor(sourceTensor).\n"
          ]
        },
        {
          "output_type": "execute_result",
          "data": {
            "text/plain": [
              "'\\ndef clf(inputs): \\n  return inputs@wb\\n\\nprint(\"Predictions: \",clf(inputs))\\nprint(\"Weights: \",wbn)\\nplt.figure()\\n\\n\\nplotit(inputs,targets,clf=clf,conts=[0],extent = [-5,+5,-5,+5])\\n'"
            ],
            "application/vnd.google.colaboratory.intrinsic+json": {
              "type": "string"
            }
          },
          "metadata": {},
          "execution_count": 6
        },
        {
          "output_type": "display_data",
          "data": {
            "text/plain": [
              "<Figure size 432x288 with 1 Axes>"
            ],
            "image/png": "[encoded data removed]"
          },
          "metadata": {
            "needs_background": "light"
          }
        }
      ]
    },
    {
      "cell_type": "code",
      "source": [
        "z = (wb@K).detach().numpy()\n",
        "print(\"Accuracy\",np.mean(z*ttargets>0))\n",
        "from sklearn.metrics import roc_auc_score\n",
        "print(\"AUROC\",roc_auc_score(ttargets, z))"
      ],
      "metadata": {
        "id": "ERafpLRRK0Dm",
        "outputId": "bce7d74c-80c6-4339-b4d1-0c33920d037f",
        "colab": {
          "base_uri": "https://localhost:8080/"
        }
      },
      "execution_count": 7,
      "outputs": [
        {
          "output_type": "stream",
          "name": "stdout",
          "text": [
            "Accuracy 0.9\n",
            "AUROC 0.9550000000000001\n"
          ]
        }
      ]
    },
    {
      "cell_type": "code",
      "source": [
        "plt.hist(z);plt.title('Prediction Scores')"
      ],
      "metadata": {
        "id": "S5XtmMsjNVab",
        "outputId": "027396f9-d83e-4097-9139-feafac42d304",
        "colab": {
          "base_uri": "https://localhost:8080/",
          "height": 298
        }
      },
      "execution_count": 8,
      "outputs": [
        {
          "output_type": "execute_result",
          "data": {
            "text/plain": [
              "Text(0.5, 1.0, 'Prediction Scores')"
            ]
          },
          "metadata": {},
          "execution_count": 8
        },
        {
          "output_type": "display_data",
          "data": {
            "text/plain": [
              "<Figure size 432x288 with 1 Axes>"
            ],
            "image/png": "[encoded data removed]"
          },
          "metadata": {
            "needs_background": "light"
          }
        }
      ]
    },
    {
      "cell_type": "code",
      "source": [
        "plt.hist(wbn);plt.title('Sample Weighths')"
      ],
      "metadata": {
        "id": "hOgJslRuN2mb",
        "outputId": "a0e50e23-f205-418b-a424-40e9121de6f7",
        "colab": {
          "base_uri": "https://localhost:8080/",
          "height": 298
        }
      },
      "execution_count": 9,
      "outputs": [
        {
          "output_type": "execute_result",
          "data": {
            "text/plain": [
              "Text(0.5, 1.0, 'Sample Weighths')"
            ]
          },
          "metadata": {},
          "execution_count": 9
        },
        {
          "output_type": "display_data",
          "data": {
            "text/plain": [
              "<Figure size 432x288 with 1 Axes>"
            ],
            "image/png": "[encoded data removed]"
          },
          "metadata": {
            "needs_background": "light"
          }
        }
      ]
    },
    {
      "cell_type": "code",
      "source": [
        "y"
      ],
      "metadata": {
        "id": "UPkKJ1WCOW0K",
        "outputId": "4f01b530-ac25-41ac-c47d-d6951beb72e0",
        "colab": {
          "base_uri": "https://localhost:8080/"
        }
      },
      "execution_count": 10,
      "outputs": [
        {
          "output_type": "execute_result",
          "data": {
            "text/plain": [
              "tensor([ 1., nan, nan, nan, nan, nan, nan, nan, nan, nan, nan, nan, nan, nan,\n",
              "        nan, nan, nan, nan, nan, nan, nan, nan, nan, nan, nan, nan, nan, nan,\n",
              "        nan, nan, nan, nan, nan, nan, nan, nan, nan, nan, nan, nan, nan, nan,\n",
              "        nan, nan, nan, nan, nan, nan, nan, nan, nan, nan, nan, nan, nan, nan,\n",
              "        nan, nan, nan, nan, nan, nan, nan, nan, nan, nan, nan, nan, nan, nan,\n",
              "        nan, nan, nan, nan, nan, nan, nan, nan, nan, nan, nan, nan, nan, nan,\n",
              "        nan, nan, nan, nan, nan, nan, nan, nan, nan, nan, nan, nan, nan, nan,\n",
              "        nan, nan, nan, nan, nan, nan, nan, nan, nan, nan, nan, -1.])"
            ]
          },
          "metadata": {},
          "execution_count": 10
        }
      ]
    },
    {
      "cell_type": "code",
      "source": [
        "ttargets"
      ],
      "metadata": {
        "id": "Sd-mQyAfbHSx",
        "colab": {
          "base_uri": "https://localhost:8080/"
        },
        "outputId": "c387dbda-2a7d-43d5-802d-391610d1782a"
      },
      "execution_count": 11,
      "outputs": [
        {
          "output_type": "execute_result",
          "data": {
            "text/plain": [
              "array([ 1.,  1.,  1.,  1.,  1.,  1.,  1.,  1.,  1.,  1., -1., -1., -1.,\n",
              "       -1., -1., -1., -1., -1., -1., -1., -1., -1., -1., -1., -1., -1.,\n",
              "       -1., -1., -1., -1., -1., -1., -1., -1., -1., -1., -1., -1., -1.,\n",
              "       -1., -1., -1., -1., -1., -1., -1., -1., -1., -1., -1., -1., -1.,\n",
              "       -1., -1., -1., -1., -1., -1., -1., -1., -1., -1., -1., -1., -1.,\n",
              "       -1., -1., -1., -1., -1., -1., -1., -1., -1., -1., -1., -1., -1.,\n",
              "       -1., -1., -1., -1., -1., -1., -1., -1., -1., -1., -1., -1., -1.,\n",
              "       -1., -1., -1., -1., -1., -1., -1., -1., -1., -1., -1., -1., -1.,\n",
              "       -1., -1., -1., -1., -1., -1.])"
            ]
          },
          "metadata": {},
          "execution_count": 11
        }
      ]
    },
    {
      "cell_type": "code",
      "source": [
        ""
      ],
      "metadata": {
        "id": "8g0YTvhjkSGp"
      },
      "execution_count": null,
      "outputs": []
    }
  ]
}